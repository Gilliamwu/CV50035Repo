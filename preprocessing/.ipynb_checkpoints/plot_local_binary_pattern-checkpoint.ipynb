{
 "cells": [
  {
   "cell_type": "code",
   "execution_count": 1,
   "metadata": {},
   "outputs": [],
   "source": [
    "%matplotlib inline"
   ]
  },
  {
   "cell_type": "markdown",
   "metadata": {},
   "source": [
    "\n",
    "# Local Binary Pattern for texture classification\n",
    "\n",
    "\n",
    "In this example, we will see how to classify textures based on LBP (Local\n",
    "Binary Pattern). LBP looks at points surrounding a central point and tests\n",
    "whether the surrounding points are greater than or less than the central point\n",
    "(i.e. gives a binary result).\n",
    "\n",
    "Before trying out LBP on an image, it helps to look at a schematic of LBPs.\n",
    "The below code is just used to plot the schematic.\n",
    "\n"
   ]
  },
  {
   "cell_type": "code",
   "execution_count": 2,
   "metadata": {},
   "outputs": [
    {
     "data": {
      "image/png": "[encoded data removed]",
      "text/plain": [
       "<matplotlib.figure.Figure at 0x2099af28f98>"
      ]
     },
     "metadata": {},
     "output_type": "display_data"
    }
   ],
   "source": [
    "import numpy as np\n",
    "import matplotlib.pyplot as plt\n",
    "\n",
    "\n",
    "METHOD = 'uniform'\n",
    "plt.rcParams['font.size'] = 9\n",
    "\n",
    "\n",
    "def plot_circle(ax, center, radius, color):\n",
    "    circle = plt.Circle(center, radius, facecolor=color, edgecolor='0.5')\n",
    "    ax.add_patch(circle)\n",
    "\n",
    "\n",
    "def plot_lbp_model(ax, binary_values):\n",
    "    \"\"\"Draw the schematic for a local binary pattern.\"\"\"\n",
    "    # Geometry spec\n",
    "    theta = np.deg2rad(45)\n",
    "    R = 1\n",
    "    r = 0.15\n",
    "    w = 1.5\n",
    "    gray = '0.5'\n",
    "\n",
    "    # Draw the central pixel.\n",
    "    plot_circle(ax, (0, 0), radius=r, color=gray)\n",
    "    # Draw the surrounding pixels.\n",
    "    for i, facecolor in enumerate(binary_values):\n",
    "        x = R * np.cos(i * theta)\n",
    "        y = R * np.sin(i * theta)\n",
    "        plot_circle(ax, (x, y), radius=r, color=str(facecolor))\n",
    "\n",
    "    # Draw the pixel grid.\n",
    "    for x in np.linspace(-w, w, 4):\n",
    "        ax.axvline(x, color=gray)\n",
    "        ax.axhline(x, color=gray)\n",
    "\n",
    "    # Tweak the layout.\n",
    "    ax.axis('image')\n",
    "    ax.axis('off')\n",
    "    size = w + 0.2\n",
    "    ax.set_xlim(-size, size)\n",
    "    ax.set_ylim(-size, size)\n",
    "\n",
    "\n",
    "fig, axes = plt.subplots(ncols=5, figsize=(7, 2))\n",
    "\n",
    "titles = ['flat', 'flat', 'edge', 'corner', 'non-uniform']\n",
    "\n",
    "binary_patterns = [np.zeros(8),\n",
    "                   np.ones(8),\n",
    "                   np.hstack([np.ones(4), np.zeros(4)]),\n",
    "                   np.hstack([np.zeros(3), np.ones(5)]),\n",
    "                   [1, 0, 0, 1, 1, 1, 0, 0]]\n",
    "\n",
    "for ax, values, name in zip(axes, binary_patterns, titles):\n",
    "    plot_lbp_model(ax, values)\n",
    "    ax.set_title(name)"
   ]
  },
  {
   "cell_type": "markdown",
   "metadata": {},
   "source": [
    "The figure above shows example results with black (or white) representing\n",
    "pixels that are less (or more) intense than the central pixel. When\n",
    "surrounding pixels are all black or all white, then that image region is\n",
    "flat (i.e. featureless). Groups of continuous black or white pixels are\n",
    "considered \"uniform\" patterns that can be interpreted as corners or edges.\n",
    "If pixels switch back-and-forth between black and white pixels, the pattern\n",
    "is considered \"non-uniform\".\n",
    "\n",
    "When using LBP to detect texture, you measure a collection of LBPs over an\n",
    "image patch and look at the distribution of these LBPs. Lets apply LBP to a\n",
    "brick texture.\n",
    "\n"
   ]
  },
  {
   "cell_type": "code",
   "execution_count": 24,
   "metadata": {},
   "outputs": [
    {
     "name": "stdout",
     "output_type": "stream",
     "text": [
      "(512, 512)\n",
      "(1080, 1920)\n",
      "(512, 512)\n"
     ]
    }
   ],
   "source": [
    "\n",
    "image = data.load('brick.png')\n",
    "print(image.shape)\n",
    "\n",
    "import cv2\n",
    "ori_img = cv2.imread(\"F:\\\\capstone\\\\data\\\\video_processing_data\\\\File_002frame\\\\00196.jpg\",0).astype(np.float32)\n",
    "print(ori_img.shape)\n",
    "\n",
    "print( ori_img[:512, :512].shape)"
   ]
  },
  {
   "cell_type": "code",
   "execution_count": 34,
   "metadata": {},
   "outputs": [
    {
     "name": "stdout",
     "output_type": "stream",
     "text": [
      "(512, 512)\n",
      "(512, 512)\n"
     ]
    },
    {
     "ename": "ValueError",
     "evalue": "Images of type float must be between -1 and 1.",
     "output_type": "error",
     "traceback": [
      "\u001b[1;31m-------------------------------------------------------------------\u001b[0m",
      "\u001b[1;31mValueError\u001b[0m                        Traceback (most recent call last)",
      "\u001b[1;32m<ipython-input-34-2141108bf657>\u001b[0m in \u001b[0;36m<module>\u001b[1;34m()\u001b[0m\n\u001b[0;32m     48\u001b[0m \u001b[1;33m\u001b[0m\u001b[0m\n\u001b[0;32m     49\u001b[0m \u001b[1;32mfor\u001b[0m \u001b[0max\u001b[0m\u001b[1;33m,\u001b[0m \u001b[0mlabels\u001b[0m \u001b[1;32min\u001b[0m \u001b[0mzip\u001b[0m\u001b[1;33m(\u001b[0m\u001b[0max_img\u001b[0m\u001b[1;33m,\u001b[0m \u001b[0mlabel_sets\u001b[0m\u001b[1;33m)\u001b[0m\u001b[1;33m:\u001b[0m\u001b[1;33m\u001b[0m\u001b[0m\n\u001b[1;32m---> 50\u001b[1;33m     \u001b[0max\u001b[0m\u001b[1;33m.\u001b[0m\u001b[0mimshow\u001b[0m\u001b[1;33m(\u001b[0m\u001b[0moverlay_labels\u001b[0m\u001b[1;33m(\u001b[0m\u001b[0mimage\u001b[0m\u001b[1;33m,\u001b[0m \u001b[0mlbp\u001b[0m\u001b[1;33m,\u001b[0m \u001b[0mlabels\u001b[0m\u001b[1;33m)\u001b[0m\u001b[1;33m)\u001b[0m\u001b[1;33m\u001b[0m\u001b[0m\n\u001b[0m\u001b[0;32m     51\u001b[0m \u001b[1;33m\u001b[0m\u001b[0m\n\u001b[0;32m     52\u001b[0m \u001b[1;32mfor\u001b[0m \u001b[0max\u001b[0m\u001b[1;33m,\u001b[0m \u001b[0mlabels\u001b[0m\u001b[1;33m,\u001b[0m \u001b[0mname\u001b[0m \u001b[1;32min\u001b[0m \u001b[0mzip\u001b[0m\u001b[1;33m(\u001b[0m\u001b[0max_hist\u001b[0m\u001b[1;33m,\u001b[0m \u001b[0mlabel_sets\u001b[0m\u001b[1;33m,\u001b[0m \u001b[0mtitles\u001b[0m\u001b[1;33m)\u001b[0m\u001b[1;33m:\u001b[0m\u001b[1;33m\u001b[0m\u001b[0m\n",
      "\u001b[1;32m<ipython-input-34-2141108bf657>\u001b[0m in \u001b[0;36moverlay_labels\u001b[1;34m(image, lbp, labels)\u001b[0m\n\u001b[0;32m     13\u001b[0m     \u001b[0mprint\u001b[0m\u001b[1;33m(\u001b[0m\u001b[0mimage\u001b[0m\u001b[1;33m.\u001b[0m\u001b[0mshape\u001b[0m\u001b[1;33m)\u001b[0m\u001b[1;33m\u001b[0m\u001b[0m\n\u001b[0;32m     14\u001b[0m     \u001b[0mprint\u001b[0m\u001b[1;33m(\u001b[0m\u001b[0mmask\u001b[0m\u001b[1;33m.\u001b[0m\u001b[0mshape\u001b[0m\u001b[1;33m)\u001b[0m\u001b[1;33m\u001b[0m\u001b[0m\n\u001b[1;32m---> 15\u001b[1;33m     \u001b[1;32mreturn\u001b[0m \u001b[0mlabel2rgb\u001b[0m\u001b[1;33m(\u001b[0m\u001b[0mmask\u001b[0m\u001b[1;33m,\u001b[0m \u001b[0mimage\u001b[0m\u001b[1;33m=\u001b[0m\u001b[0mimage\u001b[0m\u001b[1;33m,\u001b[0m \u001b[0mbg_label\u001b[0m\u001b[1;33m=\u001b[0m\u001b[1;36m0\u001b[0m\u001b[1;33m,\u001b[0m \u001b[0malpha\u001b[0m\u001b[1;33m=\u001b[0m\u001b[1;36m0.5\u001b[0m\u001b[1;33m)\u001b[0m\u001b[1;33m\u001b[0m\u001b[0m\n\u001b[0m\u001b[0;32m     16\u001b[0m \u001b[1;33m\u001b[0m\u001b[0m\n\u001b[0;32m     17\u001b[0m \u001b[1;33m\u001b[0m\u001b[0m\n",
      "\u001b[1;32mC:\\Users\\ntjin\\Anaconda3\\lib\\site-packages\\skimage\\color\\colorlabel.py\u001b[0m in \u001b[0;36mlabel2rgb\u001b[1;34m(label, image, colors, alpha, bg_label, bg_color, image_alpha, kind)\u001b[0m\n\u001b[0;32m    112\u001b[0m     \u001b[1;32mif\u001b[0m \u001b[0mkind\u001b[0m \u001b[1;33m==\u001b[0m \u001b[1;34m'overlay'\u001b[0m\u001b[1;33m:\u001b[0m\u001b[1;33m\u001b[0m\u001b[0m\n\u001b[0;32m    113\u001b[0m         return _label2rgb_overlay(label, image, colors, alpha, bg_label,\n\u001b[1;32m--> 114\u001b[1;33m                                   bg_color, image_alpha)\n\u001b[0m\u001b[0;32m    115\u001b[0m     \u001b[1;32melse\u001b[0m\u001b[1;33m:\u001b[0m\u001b[1;33m\u001b[0m\u001b[0m\n\u001b[0;32m    116\u001b[0m         \u001b[1;32mreturn\u001b[0m \u001b[0m_label2rgb_avg\u001b[0m\u001b[1;33m(\u001b[0m\u001b[0mlabel\u001b[0m\u001b[1;33m,\u001b[0m \u001b[0mimage\u001b[0m\u001b[1;33m,\u001b[0m \u001b[0mbg_label\u001b[0m\u001b[1;33m,\u001b[0m \u001b[0mbg_color\u001b[0m\u001b[1;33m)\u001b[0m\u001b[1;33m\u001b[0m\u001b[0m\n",
      "\u001b[1;32mC:\\Users\\ntjin\\Anaconda3\\lib\\site-packages\\skimage\\color\\colorlabel.py\u001b[0m in \u001b[0;36m_label2rgb_overlay\u001b[1;34m(label, image, colors, alpha, bg_label, bg_color, image_alpha)\u001b[0m\n\u001b[0;32m    162\u001b[0m             \u001b[0mwarn\u001b[0m\u001b[1;33m(\u001b[0m\u001b[1;34m\"Negative intensities in `image` are not supported\"\u001b[0m\u001b[1;33m)\u001b[0m\u001b[1;33m\u001b[0m\u001b[0m\n\u001b[0;32m    163\u001b[0m \u001b[1;33m\u001b[0m\u001b[0m\n\u001b[1;32m--> 164\u001b[1;33m         \u001b[0mimage\u001b[0m \u001b[1;33m=\u001b[0m \u001b[0mimg_as_float\u001b[0m\u001b[1;33m(\u001b[0m\u001b[0mrgb2gray\u001b[0m\u001b[1;33m(\u001b[0m\u001b[0mimage\u001b[0m\u001b[1;33m)\u001b[0m\u001b[1;33m)\u001b[0m\u001b[1;33m\u001b[0m\u001b[0m\n\u001b[0m\u001b[0;32m    165\u001b[0m         \u001b[0mimage\u001b[0m \u001b[1;33m=\u001b[0m \u001b[0mgray2rgb\u001b[0m\u001b[1;33m(\u001b[0m\u001b[0mimage\u001b[0m\u001b[1;33m)\u001b[0m \u001b[1;33m*\u001b[0m \u001b[0mimage_alpha\u001b[0m \u001b[1;33m+\u001b[0m \u001b[1;33m(\u001b[0m\u001b[1;36m1\u001b[0m \u001b[1;33m-\u001b[0m \u001b[0mimage_alpha\u001b[0m\u001b[1;33m)\u001b[0m\u001b[1;33m\u001b[0m\u001b[0m\n\u001b[0;32m    166\u001b[0m \u001b[1;33m\u001b[0m\u001b[0m\n",
      "\u001b[1;32mC:\\Users\\ntjin\\Anaconda3\\lib\\site-packages\\skimage\\util\\dtype.py\u001b[0m in \u001b[0;36mimg_as_float\u001b[1;34m(image, force_copy)\u001b[0m\n\u001b[0;32m    334\u001b[0m \u001b[1;33m\u001b[0m\u001b[0m\n\u001b[0;32m    335\u001b[0m     \"\"\"\n\u001b[1;32m--> 336\u001b[1;33m     \u001b[1;32mreturn\u001b[0m \u001b[0mconvert\u001b[0m\u001b[1;33m(\u001b[0m\u001b[0mimage\u001b[0m\u001b[1;33m,\u001b[0m \u001b[0mnp\u001b[0m\u001b[1;33m.\u001b[0m\u001b[0mfloat64\u001b[0m\u001b[1;33m,\u001b[0m \u001b[0mforce_copy\u001b[0m\u001b[1;33m)\u001b[0m\u001b[1;33m\u001b[0m\u001b[0m\n\u001b[0m\u001b[0;32m    337\u001b[0m \u001b[1;33m\u001b[0m\u001b[0m\n\u001b[0;32m    338\u001b[0m \u001b[1;33m\u001b[0m\u001b[0m\n",
      "\u001b[1;32mC:\\Users\\ntjin\\Anaconda3\\lib\\site-packages\\skimage\\util\\dtype.py\u001b[0m in \u001b[0;36mconvert\u001b[1;34m(image, dtype, force_copy, uniform)\u001b[0m\n\u001b[0;32m    234\u001b[0m     \u001b[1;32mif\u001b[0m \u001b[0mkind_in\u001b[0m \u001b[1;33m==\u001b[0m \u001b[1;34m'f'\u001b[0m\u001b[1;33m:\u001b[0m\u001b[1;33m\u001b[0m\u001b[0m\n\u001b[0;32m    235\u001b[0m         \u001b[1;32mif\u001b[0m \u001b[0mnp\u001b[0m\u001b[1;33m.\u001b[0m\u001b[0mmin\u001b[0m\u001b[1;33m(\u001b[0m\u001b[0mimage\u001b[0m\u001b[1;33m)\u001b[0m \u001b[1;33m<\u001b[0m \u001b[1;33m-\u001b[0m\u001b[1;36m1.0\u001b[0m \u001b[1;32mor\u001b[0m \u001b[0mnp\u001b[0m\u001b[1;33m.\u001b[0m\u001b[0mmax\u001b[0m\u001b[1;33m(\u001b[0m\u001b[0mimage\u001b[0m\u001b[1;33m)\u001b[0m \u001b[1;33m>\u001b[0m \u001b[1;36m1.0\u001b[0m\u001b[1;33m:\u001b[0m\u001b[1;33m\u001b[0m\u001b[0m\n\u001b[1;32m--> 236\u001b[1;33m             \u001b[1;32mraise\u001b[0m \u001b[0mValueError\u001b[0m\u001b[1;33m(\u001b[0m\u001b[1;34m\"Images of type float must be between -1 and 1.\"\u001b[0m\u001b[1;33m)\u001b[0m\u001b[1;33m\u001b[0m\u001b[0m\n\u001b[0m\u001b[0;32m    237\u001b[0m         \u001b[1;32mif\u001b[0m \u001b[0mkind_out\u001b[0m \u001b[1;33m==\u001b[0m \u001b[1;34m'f'\u001b[0m\u001b[1;33m:\u001b[0m\u001b[1;33m\u001b[0m\u001b[0m\n\u001b[0;32m    238\u001b[0m             \u001b[1;31m# float -> float\u001b[0m\u001b[1;33m\u001b[0m\u001b[1;33m\u001b[0m\u001b[0m\n",
      "\u001b[1;31mValueError\u001b[0m: Images of type float must be between -1 and 1."
     ]
    },
    {
     "data": {
      "image/png": "[encoded data removed]",
      "text/plain": [
       "<matplotlib.figure.Figure at 0x2099e18bb38>"
      ]
     },
     "metadata": {},
     "output_type": "display_data"
    }
   ],
   "source": [
    "from skimage.transform import rotate\n",
    "from skimage.feature import local_binary_pattern\n",
    "from skimage import data\n",
    "from skimage.color import label2rgb\n",
    "\n",
    "# settings for LBP\n",
    "radius = 3\n",
    "n_points = 8 * radius\n",
    "\n",
    "\n",
    "def overlay_labels(image, lbp, labels):\n",
    "    mask = np.logical_or.reduce([lbp == each for each in labels])\n",
    "    print(image.shape)\n",
    "    print(mask.shape)\n",
    "    return label2rgb(mask, image=image, bg_label=0, alpha=0.5)\n",
    "\n",
    "def get_mask(image, Ibp, labels):\n",
    "    mask = np.logical_or.reduce([lbp == each for each in labels])\n",
    "    return mask\n",
    "\n",
    "def highlight_bars(bars, indexes):\n",
    "    for i in indexes:\n",
    "        bars[i].set_facecolor('r')\n",
    "\n",
    "\n",
    "# image = data.load('brick.png')\n",
    "image = ori_img[:512, :512]\n",
    "lbp = local_binary_pattern(image, n_points, radius, METHOD)\n",
    "\n",
    "\n",
    "def hist(ax, lbp):\n",
    "    n_bins = int(lbp.max() + 1)\n",
    "    return ax.hist(lbp.ravel(), normed=True, bins=n_bins, range=(0, n_bins),\n",
    "                   facecolor='0.5')\n",
    "\n",
    "\n",
    "# plot histograms of LBP of textures\n",
    "fig, (ax_img, ax_hist) = plt.subplots(nrows=2, ncols=3, figsize=(9, 6))\n",
    "plt.gray()\n",
    "\n",
    "titles = ('edge', 'flat', 'corner')\n",
    "w = width = radius - 1\n",
    "edge_labels = range(n_points // 2 - w, n_points // 2 + w + 1)\n",
    "flat_labels = list(range(0, w + 1)) + list(range(n_points - w, n_points + 2))\n",
    "i_14 = n_points // 4            # 1/4th of the histogram\n",
    "i_34 = 3 * (n_points // 4)      # 3/4th of the histogram\n",
    "corner_labels = (list(range(i_14 - w, i_14 + w + 1)) +\n",
    "                 list(range(i_34 - w, i_34 + w + 1)))\n",
    "\n",
    "label_sets = (edge_labels, flat_labels, corner_labels)\n",
    "\n",
    "for ax, labels in zip(ax_img, label_sets):\n",
    "    ax.imshow(overlay_labels(image, lbp, labels))\n",
    "\n",
    "for ax, labels, name in zip(ax_hist, label_sets, titles):\n",
    "    counts, _, bars = hist(ax, lbp)\n",
    "    highlight_bars(bars, labels)\n",
    "    ax.set_ylim(ymax=np.max(counts[:-1]))\n",
    "    ax.set_xlim(xmax=n_points + 2)\n",
    "    ax.set_title(name)\n",
    "\n",
    "ax_hist[0].set_ylabel('Percentage')\n",
    "for ax in ax_img:\n",
    "    ax.axis('off')"
   ]
  },
  {
   "cell_type": "markdown",
   "metadata": {},
   "source": [
    "The above plot highlights flat, edge-like, and corner-like regions of the\n",
    "image.\n",
    "\n",
    "The histogram of the LBP result is a good measure to classify textures.\n",
    "Here, we test the histogram distributions against each other using the\n",
    "Kullback-Leibler-Divergence.\n",
    "\n"
   ]
  },
  {
   "cell_type": "code",
   "execution_count": null,
   "metadata": {},
   "outputs": [],
   "source": [
    "# settings for LBP\n",
    "radius = 2\n",
    "n_points = 8 * radius\n",
    "\n",
    "\n",
    "def kullback_leibler_divergence(p, q):\n",
    "    p = np.asarray(p)\n",
    "    q = np.asarray(q)\n",
    "    filt = np.logical_and(p != 0, q != 0)\n",
    "    return np.sum(p[filt] * np.log2(p[filt] / q[filt]))\n",
    "\n",
    "\n",
    "def match(refs, img):\n",
    "    best_score = 10\n",
    "    best_name = None\n",
    "    lbp = local_binary_pattern(img, n_points, radius, METHOD)\n",
    "    n_bins = int(lbp.max() + 1)\n",
    "    hist, _ = np.histogram(lbp, normed=True, bins=n_bins, range=(0, n_bins))\n",
    "    for name, ref in refs.items():\n",
    "        ref_hist, _ = np.histogram(ref, normed=True, bins=n_bins,\n",
    "                                   range=(0, n_bins))\n",
    "        score = kullback_leibler_divergence(hist, ref_hist)\n",
    "        if score < best_score:\n",
    "            best_score = score\n",
    "            best_name = name\n",
    "    return best_name\n",
    "\n",
    "\n",
    "brick = data.load('brick.png')\n",
    "grass = data.load('grass.png')\n",
    "wall = data.load('rough-wall.png')\n",
    "\n",
    "refs = {\n",
    "    'brick': local_binary_pattern(brick, n_points, radius, METHOD),\n",
    "    'grass': local_binary_pattern(grass, n_points, radius, METHOD),\n",
    "    'wall': local_binary_pattern(wall, n_points, radius, METHOD)\n",
    "}\n",
    "\n",
    "# classify rotated textures\n",
    "print('Rotated images matched against references using LBP:')\n",
    "print('original: brick, rotated: 30deg, match result: ',\n",
    "      match(refs, rotate(brick, angle=30, resize=False)))\n",
    "print('original: brick, rotated: 70deg, match result: ',\n",
    "      match(refs, rotate(brick, angle=70, resize=False)))\n",
    "print('original: grass, rotated: 145deg, match result: ',\n",
    "      match(refs, rotate(grass, angle=145, resize=False)))\n",
    "\n",
    "# plot histograms of LBP of textures\n",
    "fig, ((ax1, ax2, ax3), (ax4, ax5, ax6)) = plt.subplots(nrows=2, ncols=3,\n",
    "                                                       figsize=(9, 6))\n",
    "plt.gray()\n",
    "\n",
    "ax1.imshow(brick)\n",
    "ax1.axis('off')\n",
    "hist(ax4, refs['brick'])\n",
    "ax4.set_ylabel('Percentage')\n",
    "\n",
    "ax2.imshow(grass)\n",
    "ax2.axis('off')\n",
    "hist(ax5, refs['grass'])\n",
    "ax5.set_xlabel('Uniform LBP values')\n",
    "\n",
    "ax3.imshow(wall)\n",
    "ax3.axis('off')\n",
    "hist(ax6, refs['wall'])\n",
    "\n",
    "plt.show()"
   ]
  }
 ],
 "metadata": {
  "kernelspec": {
   "display_name": "Python 3",
   "language": "python",
   "name": "python3"
  },
  "language_info": {
   "codemirror_mode": {
    "name": "ipython",
    "version": 3
   },
   "file_extension": ".py",
   "mimetype": "text/x-python",
   "name": "python",
   "nbconvert_exporter": "python",
   "pygments_lexer": "ipython3",
   "version": "3.6.4"
  }
 },
 "nbformat": 4,
 "nbformat_minor": 1
}
