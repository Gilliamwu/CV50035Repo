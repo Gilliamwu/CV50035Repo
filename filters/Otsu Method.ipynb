{
 "cells": [
  {
   "cell_type": "code",
   "execution_count": 1,
   "metadata": {
    "collapsed": true
   },
   "outputs": [],
   "source": [
    "import cv2\n",
    "import numpy as np\n",
    "import sys\n",
    "import matplotlib\n",
    "from matplotlib import pyplot as plt\n",
    "import pylab as pl\n",
    "\n",
    "# This is a bit of magic to make matplotlib figures appear inline in the notebook\n",
    "# rather than in a new window.\n",
    "%matplotlib inline\n",
    "plt.rcParams['figure.figsize'] = (10.0, 8.0) # set default size of plots\n",
    "plt.rcParams['image.interpolation'] = 'nearest'\n",
    "plt.rcParams['image.cmap'] = 'gray'"
   ]
  },
  {
   "cell_type": "code",
   "execution_count": 2,
   "metadata": {
    "collapsed": true
   },
   "outputs": [],
   "source": [
    "def normalize_grayscale(image, beta=0.75, image_id_k = 1, A_kp=None):\n",
    "    N,M = image.shape\n",
    "    k = image_id_k\n",
    "    \n",
    "    if image_id_k > 1 and  A_kp is None :\n",
    "        print(\"please define A_kp as this is not the first image\")\n",
    "    elif image_id_k == 1:\n",
    "        A_kp = np.zeros((N,M))\n",
    "        \n",
    "    alpha = beta*(k-1)/k\n",
    "    a = np.mean(image, axis=0)\n",
    "    A_k = alpha*A_kp + (1-alpha)*np.tile(a,(N,1))\n",
    "    image = 128*(image/A_k)\n",
    "    return image, A_k"
   ]
  },
  {
   "cell_type": "code",
   "execution_count": 5,
   "metadata": {},
   "outputs": [],
   "source": [
    "mytrainX = []\n",
    "mytrainY = np.concatenate((np.ones(1000), np.zeros(1000)),0)\n",
    "A_kp=None\n",
    "for i in range(1,1001):\n",
    "    txt = '/Users/delinwang/Desktop/Concrete Crack Images for Classification.rar Folder/Positive/0'+str(i).zfill(4)+'.jpg'\n",
    "    img = cv2.imread(txt, 0).astype(np.float32)\n",
    "    img2, A_kp = normalize_grayscale(img, beta=0.75, image_id_k = i, A_kp=A_kp)\n",
    "    img2 = np.uint8(img2)\n",
    "    blur = cv2.GaussianBlur(img2,(5,5),0)\n",
    "    ret3,myfiltered = cv2.threshold(blur,0,255,cv2.THRESH_BINARY+cv2.THRESH_OTSU)\n",
    "    myfiltered = myfiltered.reshape(-1)\n",
    "    mytrainX.append(myfiltered)\n",
    "     \n",
    "A_kp=None    \n",
    "for i in range(1,1001):\n",
    "    txt = '/Users/delinwang/Desktop/Concrete Crack Images for Classification.rar Folder/Negative/0'+str(i).zfill(4)+'.jpg'\n",
    "    img = cv2.imread(txt, 0).astype(np.float32)\n",
    "    img2, A_kp = normalize_grayscale(img)\n",
    "    img2 = np.uint8(img2)\n",
    "    blur = cv2.GaussianBlur(img2,(5,5),0)\n",
    "    ret3,myfiltered = cv2.threshold(blur,0,255,cv2.THRESH_BINARY+cv2.THRESH_OTSU)\n",
    "    myfiltered = myfiltered.reshape(-1)\n",
    "    mytrainX.append(myfiltered) \n",
    "mytrainX = np.asarray(mytrainX)"
   ]
  },
  {
   "cell_type": "code",
   "execution_count": 6,
   "metadata": {},
   "outputs": [
    {
     "data": {
      "text/plain": [
       "LogisticRegression(C=100000.0, class_weight=None, dual=False,\n",
       "          fit_intercept=True, intercept_scaling=1, max_iter=100,\n",
       "          multi_class='ovr', n_jobs=1, penalty='l2', random_state=None,\n",
       "          solver='liblinear', tol=0.0001, verbose=0, warm_start=False)"
      ]
     },
     "execution_count": 6,
     "metadata": {},
     "output_type": "execute_result"
    }
   ],
   "source": [
    "from sklearn import svm\n",
    "clf = svm.SVC()\n",
    "clf.fit(mytrainX, mytrainY) \n",
    "from sklearn.neighbors import KNeighborsClassifier\n",
    "neigh = KNeighborsClassifier(n_neighbors=3)\n",
    "neigh.fit(mytrainX, mytrainY) \n",
    "from sklearn import linear_model\n",
    "regr = linear_model.LinearRegression()\n",
    "regr.fit(mytrainX, mytrainY)\n",
    "logistic = linear_model.LogisticRegression(C=1e5)\n",
    "logistic.fit(mytrainX, mytrainY)"
   ]
  },
  {
   "cell_type": "code",
   "execution_count": 7,
   "metadata": {
    "collapsed": true
   },
   "outputs": [],
   "source": [
    "svmpospred = []\n",
    "logipospred = []\n",
    "regrpospred = []\n",
    "knnpospred = []\n",
    "A_kp=None\n",
    "for i in range(1,121):\n",
    "    j  = i + 1600\n",
    "    txt = '/Users/delinwang/Desktop/Concrete Crack Images for Classification.rar Folder/Positive/0'+str(j).zfill(4)+'.jpg'\n",
    "    img = cv2.imread(txt, 0).astype(np.float32)\n",
    "    img2, A_kp = normalize_grayscale(img, beta=0.75, image_id_k = i, A_kp=A_kp)\n",
    "    img2 = np.uint8(img2)\n",
    "    blur = cv2.GaussianBlur(img2,(5,5),0)\n",
    "    ret3,myfiltered = cv2.threshold(blur,0,255,cv2.THRESH_BINARY+cv2.THRESH_OTSU)\n",
    "    myfiltered = myfiltered.reshape(-1)\n",
    "    \n",
    "    logipospred.append(logistic.predict([myfiltered]))\n",
    "    svmpospred.append(clf.predict([myfiltered]))\n",
    "    knnpospred.append(neigh.predict([myfiltered]))\n",
    "    regrpospred.append(regr.predict([myfiltered]))\n",
    " \n",
    "        \n",
    "    \n",
    "logipred=[]\n",
    "svmpred = []\n",
    "regrpred = []\n",
    "knnpred = []\n",
    "A_kp=None\n",
    "for i in range(1,121):\n",
    "    j  = i + 1600\n",
    "    txt = '/Users/delinwang/Desktop/Concrete Crack Images for Classification.rar Folder/Negative/0'+str(j).zfill(4)+'.jpg'\n",
    "    img = cv2.imread(txt, 0).astype(np.float32)\n",
    "    img2, A_kp = normalize_grayscale(img, beta=0.75, image_id_k = i, A_kp=A_kp)\n",
    "    img2 = np.uint8(img2)\n",
    "    blur = cv2.GaussianBlur(img2,(5,5),0)\n",
    "    ret3,myfiltered = cv2.threshold(blur,0,255,cv2.THRESH_BINARY+cv2.THRESH_OTSU)\n",
    "    myfiltered = myfiltered.reshape(-1)\n",
    "    \n",
    "    logipred.append(logistic.predict([myfiltered]))\n",
    "    svmpred.append(clf.predict([myfiltered]))\n",
    "    knnpred.append(neigh.predict([myfiltered]))\n",
    "    regrpred.append(logistic.predict([myfiltered]))\n"
   ]
  },
  {
   "cell_type": "code",
   "execution_count": 8,
   "metadata": {},
   "outputs": [
    {
     "name": "stdout",
     "output_type": "stream",
     "text": [
      "svm pos, neg\n",
      "[ 1.]\n",
      "[ 0.]\n",
      "logistic pos, neg\n",
      "[ 0.925]\n",
      "[ 0.48333333]\n",
      "knn pos, neg\n",
      "[ 0.75833333]\n",
      "[ 0.38333333]\n",
      "linear reg pos, neg\n",
      "0.9666666666666667\n",
      "0.48333333333333334\n"
     ]
    }
   ],
   "source": [
    "print ('svm pos, neg')\n",
    "print (sum(svmpospred)/120)\n",
    "print ((120-sum(svmpred))/120)\n",
    "\n",
    "print ('logistic pos, neg')\n",
    "print (sum(logipospred)/120)\n",
    "print ((120-sum(logipred))/120)\n",
    "\n",
    "print ('knn pos, neg')\n",
    "print (sum(knnpospred)/120)\n",
    "print ((120-sum(knnpred))/120)\n",
    "\n",
    "\n",
    "print ('linear reg pos, neg')\n",
    "poscount = 0\n",
    "for i in regrpospred:\n",
    "    if i>0.5:\n",
    "        poscount +=1\n",
    "print (poscount/120)\n",
    "count = 0\n",
    "for i in regrpred:\n",
    "    if i>0.5:\n",
    "        count +=1\n",
    "print ((120-count)/120)"
   ]
  },
  {
   "cell_type": "code",
   "execution_count": null,
   "metadata": {
    "collapsed": true
   },
   "outputs": [],
   "source": []
  }
 ],
 "metadata": {
  "kernelspec": {
   "display_name": "Python 3",
   "language": "python",
   "name": "python3"
  },
  "language_info": {
   "codemirror_mode": {
    "name": "ipython",
    "version": 3
   },
   "file_extension": ".py",
   "mimetype": "text/x-python",
   "name": "python",
   "nbconvert_exporter": "python",
   "pygments_lexer": "ipython3",
   "version": "3.6.3"
  }
 },
 "nbformat": 4,
 "nbformat_minor": 2
}
