{
 "cells": [
  {
   "cell_type": "markdown",
   "metadata": {},
   "source": [
    "### Reference:\n",
    "Road Crack Detection Using the Particle Filter, by N.Hassan, S.Mathavan etc"
   ]
  },
  {
   "cell_type": "code",
   "execution_count": 1,
   "metadata": {
    "collapsed": true
   },
   "outputs": [],
   "source": [
    "import numpy as np\n",
    "import matplotlib.pyplot as plt"
   ]
  },
  {
   "cell_type": "code",
   "execution_count": 4,
   "metadata": {
    "collapsed": true
   },
   "outputs": [],
   "source": [
    "from numpy.random import *\n",
    "from scipy import stats"
   ]
  },
  {
   "cell_type": "code",
   "execution_count": null,
   "metadata": {
    "collapsed": true
   },
   "outputs": [],
   "source": [
    "img = cv2.imread(\"F:/capstone/data/Training_test_data/Positive/00006.jpg\", 0).astype(np.float32)\n",
    "sampleSize = 100\n",
    "# generate initial roi\n",
    "initial_seeds = init_seed(img.shape,sampleSize)\n",
    "# Prediction\n",
    "## measurement update, generate random seeds\n",
    "\n",
    "## measurement update. for each random seed, generate a weight (w = EFG: E: predessor intensity; F:SUM(normal(x,y)*gradient successor) G: intensity of successor-intensity of predecessor )"
   ]
  },
  {
   "cell_type": "code",
   "execution_count": 2,
   "metadata": {},
   "outputs": [
    {
     "ename": "IndentationError",
     "evalue": "expected an indented block (<ipython-input-2-1e7f7663554e>, line 74)",
     "output_type": "error",
     "traceback": [
      "\u001b[1;36m  File \u001b[1;32m\"<ipython-input-2-1e7f7663554e>\"\u001b[1;36m, line \u001b[1;32m74\u001b[0m\n\u001b[1;33m    def show_image(seeds, img):\u001b[0m\n\u001b[1;37m      ^\u001b[0m\n\u001b[1;31mIndentationError\u001b[0m\u001b[1;31m:\u001b[0m expected an indented block\n"
     ]
    }
   ],
   "source": [
    "def init_seed(imgSize, sampleSize, pre_seed):\n",
    "    if pre_seed is None:\n",
    "        # random locations\n",
    "        xs = [random.uniform(0,imageSize[0]) for i in range(sampleSize)]\n",
    "        ys = [random.uniform(0,imageSize[1]) for i in range(sampleSize)]\n",
    "        # random velocity each sample will go\n",
    "        vxs = [random.uniform(0,5) for i in range(sampleSize)]\n",
    "        vys = [random.uniform(0,5) for i in range(sampleSize)]\n",
    "        # random color layer?\n",
    "    return([list(s) for s in zip(xs,ys,vxs,vys)])\n",
    "\n",
    "def filtration(precessors, img, weight_k):\n",
    "    # generate random seeds\n",
    "    dim = len(svs[1])\n",
    "    N = len(svs)\n",
    "    \n",
    "    sigma = 2.0  # variance for random generation\n",
    "    rnorm = stats.norm.rvs(0,sigma,size=N*dim)\n",
    "    ranges = zip([N*i for i in range(dim)],[N*i for i in (range(dim+1)[1:])])  # zip((0,4),(4,8),(8,12)etc)\n",
    "    ws = np.array([rnorm[p:q] for p,q in ranges])\n",
    "    ws = ws.transpose() \n",
    "    ## random seed:\n",
    "    successors = [random_move_model(ps,w) for ps,w in zip(precessors, ws)]\n",
    "    \n",
    "    # measurement update\n",
    "    likelihood_predicted = np.array([likelihood_model(ps, ss) for ps, ss in zip(precessors, successors)])\n",
    "    ## normalization\n",
    "    # TODO: assert weight_k is same shape\n",
    "    weight_kp1 = np.norm(weight_k*likelihood_predicted)\n",
    "    \n",
    "    # output:\n",
    "    seeds_resampled = resampling(successors, weight_kp1)\n",
    "    \n",
    "    \n",
    "    \n",
    "def random_move_model(pro, w, F=None):\n",
    "    #todo: assert F is 4*4 matrix\n",
    "    if F is None:\n",
    "        F = np.matrix([[1,0,1,0],\n",
    "                   [0,1,0,1],\n",
    "                   [0,0,1,0],\n",
    "                   [0,0,0,1]])\n",
    "    return(np.array(np.dot(F,sv))[0]+w)\n",
    "    \n",
    "def image_get_region(img, anchor, diameter = 4):\n",
    "    x = anchor[0]\n",
    "    y = anchor[1]\n",
    "    if ((x<0 or x> img.shape[0]) or (y<0 or y>img.shape[1])):\n",
    "        return np.zeros(shape)\n",
    "    elif (x>diameter and x<img.shape[1]-diameter and y>diameter and y<img.shape[1]-diameter):\n",
    "        return img[x-diameter:x+diameter,y-diameter:y+diameter]\n",
    "    else:\n",
    "        constant= cv2.copyMakeBorder(img,diameter,diameter,diameter,diameter,cv2.BORDER_CONSTANT,value=255)\n",
    "        return img[x-diameter:x+diameter,y-diameter:y+diameter]\n",
    "    \n",
    "def image_gradient(img, ksize=4):\n",
    "    return cv2.Laplacian(img,cv2.CV_64F)\n",
    "    \n",
    "def likelihood_model(pro, suc, img, diameter = 4):\n",
    "    # todo: the gradient here can be replaced by other models?\n",
    "    E = np.min(image_get_resgion(img, pro))\n",
    "    \n",
    "    succer_crop = image_get_resgion(img, suc)\n",
    "    G = np.min(succer_crop) - E # need abs?\n",
    "    \n",
    "    # get normal of movement\n",
    "    direction_x = abs(suc[0]-pro[0])\n",
    "    direction_y = abs(suc[1]-pro[1]) # to compute gradient\n",
    "    F = np.sum(cv2.Sobel(succer_crop,cv2.CV_8U,direction_x/(direction_x+direction_y),direction_y/(direction_x+direction_y)))\n",
    "    return E*F*G\n",
    "\n",
    "def resampling(seeds, weights, random_sample=True):\n",
    "    # sort pdf\n",
    "    sorted_particle = sorted([list(x) for x in zip(seeds,weights)],key=lambda x:x[1],reverse=False)\n",
    "    # get cdf\n",
    "    sorted_cdf_p = []\n",
    "    sorted_cdf_n = []\n",
    "    current_sum = 0\n",
    "    if random_sample:\n",
    "        threshold = np.random.uniform(0, 1)\n",
    "    \n",
    "    index = 0\n",
    "    for sp in sorted_particle:\n",
    "        sorted_cdf_p += sp[0]\n",
    "        sorted_cdf_n += sp[1]+current_sum\n",
    "        if (current_sum<threshold):\n",
    "                index += 1 # get the particle that is just bigger than threshold\n",
    "        current_sum += sp[1]\n",
    "    \n",
    "    if random_sample:\n",
    "        if  index < len(seeds):\n",
    "            raise (\"no seeds found. debug?\")\n",
    "            return (None, None)\n",
    "        else:    \n",
    "        N = len(seeds)-index\n",
    "    else:\n",
    "        print(\" no random sample, just get half\")\n",
    "        N = len(seeds)/2\n",
    "    \n",
    "    new_weight = np.ones(len(seeds)-index)/N\n",
    "    resampled_particles = sorted_cdf_p[index:]\n",
    "    return (resampled_particles, new_weight)\n",
    "    # assign weight = 1/N\n",
    "    # assign parent x\n",
    "    \n",
    "def show_image(seeds, img):\n",
    "    pass"
   ]
  },
  {
   "cell_type": "code",
   "execution_count": 9,
   "metadata": {},
   "outputs": [
    {
     "name": "stdout",
     "output_type": "stream",
     "text": [
      "0 4\n",
      "4 8\n",
      "8 12\n",
      "12 16\n",
      "16 20\n",
      "20 24\n",
      "24 28\n",
      "28 32\n",
      "32 36\n",
      "36 40\n"
     ]
    }
   ],
   "source": [
    "dim=10\n",
    "N=4\n",
    "ranges = zip([N*i for i in range(dim)],[N*i for i in (range(dim+1)[1:])])\n",
    "for p,q in ranges:\n",
    "    print(p,q)"
   ]
  },
  {
   "cell_type": "code",
   "execution_count": null,
   "metadata": {
    "collapsed": true
   },
   "outputs": [],
   "source": [
    "print()"
   ]
  },
  {
   "cell_type": "code",
   "execution_count": 10,
   "metadata": {
    "scrolled": true
   },
   "outputs": [
    {
     "ename": "ModuleNotFoundError",
     "evalue": "No module named 'scipy'",
     "output_type": "error",
     "traceback": [
      "\u001b[1;31m---------------------------------------------------------------------------\u001b[0m",
      "\u001b[1;31mModuleNotFoundError\u001b[0m                       Traceback (most recent call last)",
      "\u001b[1;32m<ipython-input-10-dcc8e03bb4b3>\u001b[0m in \u001b[0;36m<module>\u001b[1;34m()\u001b[0m\n\u001b[1;32m----> 1\u001b[1;33m \u001b[1;32mfrom\u001b[0m \u001b[0mscipy\u001b[0m \u001b[1;32mimport\u001b[0m \u001b[0mstats\u001b[0m\u001b[1;33m\u001b[0m\u001b[0m\n\u001b[0m",
      "\u001b[1;31mModuleNotFoundError\u001b[0m: No module named 'scipy'"
     ]
    }
   ],
   "source": [
    "from scipy import stats"
   ]
  },
  {
   "cell_type": "code",
   "execution_count": null,
   "metadata": {
    "collapsed": true
   },
   "outputs": [],
   "source": []
  },
  {
   "cell_type": "code",
   "execution_count": 1,
   "metadata": {},
   "outputs": [
    {
     "name": "stdout",
     "output_type": "stream",
     "text": [
      "[1, 2, 3]\n"
     ]
    }
   ],
   "source": [
    "import numpy as np\n",
    "print(np.min(np.array([[1,2,3],[4,5]])))"
   ]
  },
  {
   "cell_type": "code",
   "execution_count": null,
   "metadata": {
    "collapsed": true
   },
   "outputs": [],
   "source": []
  },
  {
   "cell_type": "code",
   "execution_count": null,
   "metadata": {
    "collapsed": true
   },
   "outputs": [],
   "source": [
    "\n",
    "\n",
    "def resample(weights):\n",
    "    n = len(weights)\n",
    "    indices = []\n",
    "    C = [0.] + [sum(weights[:i+1]) for i in range(n)]\n",
    "    u0, j = random(), 0\n",
    "    for u in [(u0+i)/n for i in range(n)]:\n",
    "        while u > C[j]:\n",
    "            j+=1\n",
    "        indices.append(j-1)\n",
    "    return indices\n",
    "\n",
    "\n",
    "def particlefilter(sequence, pos, stepsize, n):\n",
    "    seq = iter(sequence)\n",
    "    x = ones((n, 2), int) * pos                   # Initial position\n",
    "    f0 = next(seq)[tuple(pos)] * ones(n)         # Target colour model\n",
    "    yield pos, x, ones(n)/n                       # Return expected position, particles and weights\n",
    "    for im in seq:\n",
    "        np.add(x, uniform(-stepsize, stepsize, x.shape), out=x, casting=\"unsafe\")  # Particle motion model: uniform step\n",
    "        x  = x.clip(zeros(2), array(im.shape)-1).astype(int) # Clip out-of-bounds particles\n",
    "        f  = im[tuple(x.T)]                         # Measure particle colours\n",
    "        w  = 1./(1. + (f0-f)**2)                    # Weight~ inverse quadratic colour distance\n",
    "        w /= sum(w)                                 # Normalize w\n",
    "    yield sum(x.T*w, axis=1), x, w              # Return expected position, particles and weights\n",
    "    if 1./sum(w**2) < n/2.:                     # If particle cloud degenerate:\n",
    "        x  = x[resample(w),:]                     # Resample particles according to weights"
   ]
  },
  {
   "cell_type": "code",
   "execution_count": 5,
   "metadata": {},
   "outputs": [
    {
     "data": {
      "text/plain": [
       "None"
      ]
     },
     "metadata": {},
     "output_type": "display_data"
    }
   ],
   "source": [
    "%matplotlib qt\n",
    "if __name__ == \"__main__\":\n",
    "    from pylab import *\n",
    "    import time\n",
    "    from IPython import display\n",
    "\n",
    "    ion()\n",
    "    seq = [ im for im in zeros((20,240,320), int)]      # Create an image sequence of 20 frames long\n",
    "    x0 = array([120, 160])                              # Add a square with starting position x0 moving along trajectory xs\n",
    "    xs = vstack((arange(20)*3, arange(20)*2)).T + x0\n",
    "    for t, x in enumerate(xs):\n",
    "        xslice = slice(x[0]-8, x[0]+8)\n",
    "        yslice = slice(x[1]-8, x[1]+8)\n",
    "        seq[t][xslice, yslice] = 255\n",
    "    for im, p in zip(seq, particlefilter(seq, x0, 8, 100)): # Track the square through the sequence\n",
    "        pos, xs, ws = p\n",
    "        position_overlay = zeros_like(im)\n",
    "        position_overlay[np.array(pos).astype(int)] = 1\n",
    "        particle_overlay = zeros_like(im)\n",
    "        particle_overlay[tuple(xs.T)] = 1\n",
    "        draw()\n",
    "        time.sleep(0.3)\n",
    "        clf()                                           # Causes flickering, but without the spy plots aren't overwritten\n",
    "        imshow(im,cmap=cm.gray)                         # Plot the image\n",
    "        spy(position_overlay, marker='.', color='b')    # Plot the expected position\n",
    "        spy(particle_overlay, marker=',', color='r')    # Plot the particles\n",
    "        display.clear_output(wait=True)\n",
    "        display.display(show())"
   ]
  },
  {
   "cell_type": "code",
   "execution_count": 2,
   "metadata": {
    "collapsed": true
   },
   "outputs": [],
   "source": []
  }
 ],
 "metadata": {
  "kernelspec": {
   "display_name": "Python (CV)",
   "language": "python",
   "name": "cvenv"
  },
  "language_info": {
   "codemirror_mode": {
    "name": "ipython",
    "version": 3
   },
   "file_extension": ".py",
   "mimetype": "text/x-python",
   "name": "python",
   "nbconvert_exporter": "python",
   "pygments_lexer": "ipython3",
   "version": "3.6.5"
  }
 },
 "nbformat": 4,
 "nbformat_minor": 2
}
