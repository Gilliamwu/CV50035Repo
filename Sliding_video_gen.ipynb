{
 "cells": [
  {
   "cell_type": "markdown",
   "metadata": {},
   "source": [
    "## training"
   ]
  },
  {
   "cell_type": "code",
   "execution_count": 1,
   "metadata": {},
   "outputs": [
    {
     "name": "stdout",
     "output_type": "stream",
     "text": [
      "(400, 227, 227) (400,)\n"
     ]
    }
   ],
   "source": [
    "import helper.get_image\n",
    "import numpy as np\n",
    "\n",
    "FOLDER_PATH = 'F://term7//CV//reference'\n",
    "\n",
    "# random\n",
    "train_size = 200\n",
    "test_size = 100\n",
    "val_size = 40\n",
    "\n",
    "img_range = np.arange(1, 800)\n",
    "X_train_pos_idx, X_test_pos_idx, X_val_pos_idx = helper.get_random_indices(img_range, train_size, test_size, val_size)\n",
    "X_train_neg_idx, X_test_neg_idx, X_val_neg_idx = helper.get_random_indices(img_range, train_size, test_size, val_size)\n",
    "\n",
    "X_train, Y_train = helper.get_concrete_data(X_train_pos_idx, X_train_neg_idx, path = FOLDER_PATH)\n",
    "#X_test , Y_test  = helper.get_concrete_data(X_test_pos_idx, X_test_neg_idx, path = FOLDER_PATH)\n",
    "#X_val  , Y_val   = helper.get_concrete_data(X_val_pos_idx, X_val_neg_idx, path = FOLDER_PATH)\n",
    "\n",
    "print( X_train.shape, Y_train.shape )\n",
    "#print( X_test.shape , Y_test.shape  )\n",
    "#print( X_val.shape  , Y_val.shape   )"
   ]
  },
  {
   "cell_type": "code",
   "execution_count": null,
   "metadata": {
    "collapsed": true
   },
   "outputs": [],
   "source": [
    "# from filters.filter import GrayscaleNormalizer\n",
    "# normalizer = GrayscaleNormalizer()\n",
    "# X_train[:] = normalizer(X_train[:][0]) \n",
    "# X_train_flat = X_train.reshape(X_train.shape[0],-1)"
   ]
  },
  {
   "cell_type": "code",
   "execution_count": 5,
   "metadata": {
    "collapsed": true
   },
   "outputs": [],
   "source": [
    "from filters.bilateral import bilateral_canny\n",
    "bilateral_canny = bilateral_canny()\n",
    "for idx in range(X_train.shape[0]):\n",
    "    X_train[idx] = bilateral_canny.bilateral_canny_img(X_train[idx]) "
   ]
  },
  {
   "cell_type": "code",
   "execution_count": 7,
   "metadata": {
    "collapsed": true
   },
   "outputs": [],
   "source": [
    "X_train_flat = X_train.reshape(X_train.shape[0],-1)"
   ]
  },
  {
   "cell_type": "code",
   "execution_count": 8,
   "metadata": {},
   "outputs": [
    {
     "data": {
      "text/plain": [
       "LogisticRegression(C=100000.0, class_weight=None, dual=False,\n",
       "          fit_intercept=True, intercept_scaling=1, max_iter=100,\n",
       "          multi_class='ovr', n_jobs=1, penalty='l2', random_state=None,\n",
       "          solver='liblinear', tol=0.0001, verbose=0, warm_start=False)"
      ]
     },
     "execution_count": 8,
     "metadata": {},
     "output_type": "execute_result"
    }
   ],
   "source": [
    "# train a logistic model\n",
    "from sklearn import linear_model\n",
    "logistic = linear_model.LogisticRegression(C=1e5)\n",
    "logistic.fit(X_train_flat, Y_train)"
   ]
  },
  {
   "cell_type": "markdown",
   "metadata": {},
   "source": [
    "# video generation"
   ]
  },
  {
   "cell_type": "markdown",
   "metadata": {},
   "source": [
    "#### video to frame"
   ]
  },
  {
   "cell_type": "code",
   "execution_count": 61,
   "metadata": {
    "scrolled": false
   },
   "outputs": [
    {
     "name": "stdout",
     "output_type": "stream",
     "text": [
      "Converting video..\n",
      "\n",
      "Done extracting frames.\n",
      "416 frames extracted\n",
      "It took 32 seconds forconversion.\n"
     ]
    }
   ],
   "source": [
    "video_file = \"F://term7//CV//ProjectTrail//videos//File_003.mov\"\n",
    "frame_file = \"F://term7//CV//ProjectTrail//File_003frame\"\n",
    "from video import video\n",
    "v = video(video_file)\n",
    "v.video_to_frames(frame_file)\n"
   ]
  },
  {
   "cell_type": "code",
   "execution_count": 13,
   "metadata": {
    "collapsed": true
   },
   "outputs": [],
   "source": [
    "import cv2"
   ]
  },
  {
   "cell_type": "code",
   "execution_count": 14,
   "metadata": {
    "collapsed": true
   },
   "outputs": [],
   "source": [
    "def norm_dilate_median(origin_img):\n",
    "    result_planes = []\n",
    "    result_norm_planes = []\n",
    "    plane = origin_img.astype(np.uint8)\n",
    "    dilated_img = cv2.dilate(plane, np.ones((7,7), np.uint8))\n",
    "    bg_img = cv2.medianBlur(dilated_img, 21)\n",
    "    cv2.absdiff(plane, bg_img)\n",
    "    diff_img = 255 - cv2.absdiff(plane, bg_img)\n",
    "    norm_img= diff_img\n",
    "    norm_img = cv2.normalize(diff_img, norm_img, alpha=0, \n",
    "                             beta=255, norm_type=cv2.NORM_MINMAX, \n",
    "                             dtype=cv2.CV_8UC1)\n",
    "    result_planes.append(diff_img)\n",
    "    result_norm_planes.append(norm_img)\n",
    "\n",
    "    result = cv2.merge(result_planes)\n",
    "    result_norm = cv2.merge(result_norm_planes)\n",
    "\n",
    "    return result_norm"
   ]
  },
  {
   "cell_type": "code",
   "execution_count": 15,
   "metadata": {
    "collapsed": true
   },
   "outputs": [],
   "source": [
    "def adaptiveThreshold(origin_img):\n",
    "    return cv2.adaptiveThreshold(origin_img ,255,cv2.ADAPTIVE_THRESH_GAUSSIAN_C, cv2.THRESH_BINARY,11,5)"
   ]
  },
  {
   "cell_type": "code",
   "execution_count": 16,
   "metadata": {
    "collapsed": true
   },
   "outputs": [],
   "source": [
    "def save_image(img, dst, filename):\n",
    "    if not os.path.exists(dst):\n",
    "        os.mkdir(dst)  \n",
    "    cv2.imwrite(os.path.join(dst , filename), img)\n",
    "    cv2.waitKey(0)"
   ]
  },
  {
   "cell_type": "code",
   "execution_count": 64,
   "metadata": {
    "collapsed": true
   },
   "outputs": [],
   "source": [
    "from helper import rolling_window, shade_area\n",
    "\n",
    "def generate_shadowed_img(origin, cannyed, stride = (106,112), window_size = (227, 227)):\n",
    "    \n",
    "    \n",
    "    imgs = rolling_window(cannyed, window_size, stride)\n",
    "    nx, ny = imgs.shape[0], imgs.shape[1]\n",
    "    \n",
    "    plt.figure(figsize=(20, 20 * nx / ny))\n",
    "    \n",
    "    result = logistic.predict(imgs.reshape(nx * ny, -1)).reshape(nx, ny)\n",
    "    boxed = shade_area(origin, imgs, result, window_size, stride)\n",
    "    \n",
    "    return boxed"
   ]
  },
  {
   "cell_type": "code",
   "execution_count": 38,
   "metadata": {
    "collapsed": true
   },
   "outputs": [],
   "source": [
    "from helper import rolling_window, shade_area\n",
    "\n",
    "def generate_sub_frames(origin, dst, count, stride = (106,112), window_size = (227, 227)):\n",
    "    imgs = rolling_window(origin, window_size, stride)\n",
    "    nx, ny = imgs.shape[0], imgs.shape[1]\n",
    "    \n",
    "    \n",
    "    for i in range(nx):\n",
    "        for j in range(ny):\n",
    "            count += 1\n",
    "            sub_img = imgs[i, j]\n",
    "            filename = \"%#06d.jpg\" % (count)\n",
    "            save_image(sub_img, dst, filename)\n",
    "    return count\n",
    "#     result = logistic.predict(imgs.reshape(nx * ny, -1)).reshape(nx, ny)\n",
    "#     boxed = shade_area(origin, imgs, result, window_size, stride)\n",
    "#     return boxed\n",
    "\n"
   ]
  },
  {
   "cell_type": "code",
   "execution_count": 18,
   "metadata": {
    "collapsed": true
   },
   "outputs": [],
   "source": [
    "def tophat(img, element=(2,2)):\n",
    "    img = np.uint8(img)\n",
    "    kernel = cv2.getStructuringElement(cv2.MORPH_CROSS,element)\n",
    "    myfiltered = cv2.morphologyEx(img, cv2.MORPH_TOPHAT, kernel)\n",
    "    return myfiltered"
   ]
  },
  {
   "cell_type": "code",
   "execution_count": 67,
   "metadata": {
    "collapsed": true
   },
   "outputs": [],
   "source": [
    "import time"
   ]
  },
  {
   "cell_type": "code",
   "execution_count": 65,
   "metadata": {
    "scrolled": true
   },
   "outputs": [
    {
     "name": "stderr",
     "output_type": "stream",
     "text": [
      "C:\\Users\\ntjin\\Anaconda3\\lib\\site-packages\\matplotlib\\pyplot.py:524: RuntimeWarning: More than 20 figures have been opened. Figures created through the pyplot interface (`matplotlib.pyplot.figure`) are retained until explicitly closed and may consume too much memory. (To control this warning, see the rcParam `figure.max_open_warning`).\n",
      "  max_open_warning, RuntimeWarning)\n"
     ]
    }
   ],
   "source": [
    "import os\n",
    "INPUT_PATH = \"F:\\\\term7\\\\CV\\\\ProjectTrail\\\\File_003frame\\\\\"\n",
    "OUTPUT_PATH  = \"F:\\\\term7\\\\CV\\\\ProjectTrail\\Output003adath\\\\\"\n",
    "\n",
    "input_format = 'jpg'\n",
    "\n",
    "from filters.bilateral import bilateral_canny\n",
    "bilateral_canny_video = bilateral_canny()\n",
    "\n",
    "import time\n",
    "time_start = time.time()\n",
    "time_pre = time.time()\n",
    "time_norm = 0\n",
    "time_canny =  0\n",
    "time_predict_and_shadow = 0\n",
    "time_save = 0\n",
    "\n",
    "count = 0\n",
    "frameid = 0\n",
    "time = False\n",
    "\n",
    "for f in os.listdir(INPUT_PATH):\n",
    "    if f.endswith(input_format):\n",
    "        image_path = os.path.join(INPUT_PATH, f)\n",
    "        frame = cv2.imread(image_path)\n",
    "        gray_frame = cv2.cvtColor(frame, cv2.COLOR_BGR2GRAY)\n",
    "        \n",
    "        # reduce shadow by dilate, median, or threshold\n",
    "\n",
    "        if time:\n",
    "            time_pre = time.time()\n",
    "#         frame_shadow_reduced = norm_dilate_median(gray_frame)\n",
    "        frame_shadow_reduced = adaptiveThreshold(gray_frame)\n",
    "        if time:\n",
    "            time_norm += time.time() - time_pre\n",
    "            time_pre = time.time()\n",
    "            \n",
    "        # generate output after canny filter, or tophat\n",
    "        frame_after_canny = bilateral_canny_video.canny_img(frame_shadow_reduced)\n",
    "#         frame_after_canny = tophat(frame_shadow_reduced,element=(6,6))\n",
    "        if time:\n",
    "            time_canny += time.time() - time_pre\n",
    "            time_pre = time.time()    \n",
    "        \n",
    "        frame_final = generate_shadowed_img(frame, frame_after_canny)\n",
    "        time_predict_and_shadow += time.time() - time_pre\n",
    "        time_pre = time.time()\n",
    "        \n",
    "        # save to folder\n",
    "        save_image(cv2.cvtColor(frame_final, cv2.COLOR_RGB2BGR), OUTPUT_PATH, f)\n",
    "        time_save= time.time() - time_pre\n",
    "        time_pre = time.time()    \n",
    "        \n",
    "if time:\n",
    "    print(\"total time for frames generation is {}\".format(time.time()-time_start))\n",
    "    print(\"time norm{}\".format(time_norm))\n",
    "    print(\"time_canny{}\".format(time_canny))\n",
    "    print(\"time_predict_and_shadow{}\".format(time_predict_and_shadow))\n",
    "    print(\"time_save{}\".format(time_save))"
   ]
  },
  {
   "cell_type": "code",
   "execution_count": 60,
   "metadata": {},
   "outputs": [
    {
     "data": {
      "image/png": "[encoded data removed]",
      "text/plain": [
       "<matplotlib.figure.Figure at 0x1754333c9e8>"
      ]
     },
     "metadata": {},
     "output_type": "display_data"
    },
    {
     "data": {
      "text/plain": [
       "-1"
      ]
     },
     "execution_count": 60,
     "metadata": {},
     "output_type": "execute_result"
    }
   ],
   "source": [
    "plt.imshow(frame_final)\n",
    "plt.title('boxed')\n",
    "plt.show()\n",
    "\n",
    "dst = \"F:\\\\term7\\\\CV\\\\ProjectTrail\\\\\"\n",
    "filename = \"a.jpg\"\n",
    "if not os.path.exists(dst):\n",
    "    os.mkdir(dst)  \n",
    "cv2.imwrite(os.path.join(dst , filename), cv2.cvtColor(frame_final, cv2.COLOR_RGB2BGR))\n",
    "cv2.waitKey(0)"
   ]
  },
  {
   "cell_type": "markdown",
   "metadata": {},
   "source": [
    "stats:\n",
    "\n",
    "for file 000, consists of 539 images \n",
    "\n",
    "total time for frames generation is 365.9983892440796\n",
    "\n",
    "time norm9.641156435012817\n",
    "\n",
    "time_canny4.354477405548096\n",
    "\n",
    "time_predict_and_shadow291.21285343170166\n",
    "\n",
    "time_save0.05203747749328613"
   ]
  },
  {
   "cell_type": "markdown",
   "metadata": {},
   "source": [
    "## video gem"
   ]
  },
  {
   "cell_type": "markdown",
   "metadata": {},
   "source": [
    "#### frames to video"
   ]
  },
  {
   "cell_type": "code",
   "execution_count": 68,
   "metadata": {},
   "outputs": [
    {
     "name": "stdout",
     "output_type": "stream",
     "text": [
      "[INFO] fps not defined from parameter or input. getting fps from origional video\n",
      "[INFO] actual fps is 30\n",
      "[INFO] no specificed image file format for input frames. JPG will be used\n",
      "press q to exit cv2 window\n",
      "[INFO] reading 00000.jpg\n",
      "[INFO] reading 00001.jpg\n",
      "[INFO] reading 00002.jpg\n",
      "[INFO] reading 00003.jpg\n",
      "[INFO] reading 00004.jpg\n",
      "[INFO] reading 00005.jpg\n",
      "[INFO] reading 00006.jpg\n",
      "[INFO] reading 00007.jpg\n",
      "[INFO] reading 00008.jpg\n",
      "[INFO] reading 00009.jpg\n",
      "[INFO] reading 00010.jpg\n",
      "[INFO] reading 00011.jpg\n",
      "[INFO] reading 00012.jpg\n",
      "[INFO] reading 00013.jpg\n",
      "[INFO] reading 00014.jpg\n",
      "[INFO] reading 00015.jpg\n",
      "[INFO] reading 00016.jpg\n",
      "[INFO] reading 00017.jpg\n",
      "[INFO] reading 00018.jpg\n",
      "[INFO] reading 00019.jpg\n",
      "[INFO] reading 00020.jpg\n",
      "[INFO] reading 00021.jpg\n",
      "[INFO] reading 00022.jpg\n",
      "[INFO] reading 00023.jpg\n",
      "[INFO] reading 00024.jpg\n",
      "[INFO] reading 00025.jpg\n",
      "[INFO] reading 00026.jpg\n",
      "[INFO] reading 00027.jpg\n",
      "[INFO] reading 00028.jpg\n",
      "[INFO] reading 00029.jpg\n",
      "[INFO] reading 00030.jpg\n",
      "[INFO] reading 00031.jpg\n",
      "[INFO] reading 00032.jpg\n",
      "[INFO] reading 00033.jpg\n",
      "[INFO] reading 00034.jpg\n",
      "[INFO] reading 00035.jpg\n",
      "[INFO] reading 00036.jpg\n",
      "[INFO] reading 00037.jpg\n",
      "[INFO] reading 00038.jpg\n",
      "[INFO] reading 00039.jpg\n",
      "[INFO] reading 00040.jpg\n",
      "[INFO] reading 00041.jpg\n",
      "[INFO] reading 00042.jpg\n",
      "[INFO] reading 00043.jpg\n",
      "[INFO] reading 00044.jpg\n",
      "[INFO] reading 00045.jpg\n",
      "[INFO] reading 00046.jpg\n",
      "[INFO] reading 00047.jpg\n",
      "[INFO] reading 00048.jpg\n",
      "[INFO] reading 00049.jpg\n",
      "[INFO] reading 00050.jpg\n",
      "[INFO] reading 00051.jpg\n",
      "[INFO] reading 00052.jpg\n",
      "[INFO] reading 00053.jpg\n",
      "[INFO] reading 00054.jpg\n",
      "[INFO] reading 00055.jpg\n",
      "[INFO] reading 00056.jpg\n",
      "[INFO] reading 00057.jpg\n",
      "[INFO] reading 00058.jpg\n",
      "[INFO] reading 00059.jpg\n",
      "[INFO] reading 00060.jpg\n",
      "[INFO] reading 00061.jpg\n",
      "[INFO] reading 00062.jpg\n",
      "[INFO] reading 00063.jpg\n",
      "[INFO] reading 00064.jpg\n",
      "[INFO] reading 00065.jpg\n",
      "[INFO] reading 00066.jpg\n",
      "[INFO] reading 00067.jpg\n",
      "[INFO] reading 00068.jpg\n",
      "[INFO] reading 00069.jpg\n",
      "[INFO] reading 00070.jpg\n",
      "[INFO] reading 00071.jpg\n",
      "[INFO] reading 00072.jpg\n",
      "[INFO] reading 00073.jpg\n",
      "[INFO] reading 00074.jpg\n",
      "[INFO] reading 00075.jpg\n",
      "[INFO] reading 00076.jpg\n",
      "[INFO] reading 00077.jpg\n",
      "[INFO] reading 00078.jpg\n",
      "[INFO] reading 00079.jpg\n",
      "[INFO] reading 00080.jpg\n",
      "[INFO] reading 00081.jpg\n",
      "[INFO] reading 00082.jpg\n",
      "[INFO] reading 00083.jpg\n",
      "[INFO] reading 00084.jpg\n",
      "[INFO] reading 00085.jpg\n",
      "[INFO] reading 00086.jpg\n",
      "[INFO] reading 00087.jpg\n",
      "[INFO] reading 00088.jpg\n",
      "[INFO] reading 00089.jpg\n",
      "[INFO] reading 00090.jpg\n",
      "[INFO] reading 00091.jpg\n",
      "[INFO] reading 00092.jpg\n",
      "[INFO] reading 00093.jpg\n",
      "[INFO] reading 00094.jpg\n",
      "[INFO] reading 00095.jpg\n",
      "[INFO] reading 00096.jpg\n",
      "[INFO] reading 00097.jpg\n",
      "[INFO] reading 00098.jpg\n",
      "[INFO] reading 00099.jpg\n",
      "[INFO] reading 00100.jpg\n",
      "[INFO] reading 00101.jpg\n",
      "[INFO] reading 00102.jpg\n",
      "[INFO] reading 00103.jpg\n",
      "[INFO] reading 00104.jpg\n",
      "[INFO] reading 00105.jpg\n",
      "[INFO] reading 00106.jpg\n",
      "[INFO] reading 00107.jpg\n",
      "[INFO] reading 00108.jpg\n",
      "[INFO] reading 00109.jpg\n",
      "[INFO] reading 00110.jpg\n",
      "[INFO] reading 00111.jpg\n",
      "[INFO] reading 00112.jpg\n",
      "[INFO] reading 00113.jpg\n",
      "[INFO] reading 00114.jpg\n",
      "[INFO] reading 00115.jpg\n",
      "[INFO] reading 00116.jpg\n",
      "[INFO] reading 00117.jpg\n",
      "[INFO] reading 00118.jpg\n",
      "[INFO] reading 00119.jpg\n",
      "[INFO] reading 00120.jpg\n",
      "[INFO] reading 00121.jpg\n",
      "[INFO] reading 00122.jpg\n",
      "[INFO] reading 00123.jpg\n",
      "[INFO] reading 00124.jpg\n",
      "[INFO] reading 00125.jpg\n",
      "[INFO] reading 00126.jpg\n",
      "[INFO] reading 00127.jpg\n",
      "[INFO] reading 00128.jpg\n",
      "[INFO] reading 00129.jpg\n",
      "[INFO] reading 00130.jpg\n",
      "[INFO] reading 00131.jpg\n",
      "[INFO] reading 00132.jpg\n",
      "[INFO] reading 00133.jpg\n",
      "[INFO] reading 00134.jpg\n",
      "[INFO] reading 00135.jpg\n",
      "[INFO] reading 00136.jpg\n",
      "[INFO] reading 00137.jpg\n",
      "[INFO] reading 00138.jpg\n",
      "[INFO] reading 00139.jpg\n",
      "[INFO] reading 00140.jpg\n",
      "[INFO] reading 00141.jpg\n",
      "[INFO] reading 00142.jpg\n",
      "[INFO] reading 00143.jpg\n",
      "[INFO] reading 00144.jpg\n",
      "[INFO] reading 00145.jpg\n",
      "[INFO] reading 00146.jpg\n",
      "[INFO] reading 00147.jpg\n",
      "[INFO] reading 00148.jpg\n",
      "[INFO] reading 00149.jpg\n",
      "[INFO] reading 00150.jpg\n",
      "[INFO] reading 00151.jpg\n",
      "[INFO] reading 00152.jpg\n",
      "[INFO] reading 00153.jpg\n",
      "[INFO] reading 00154.jpg\n",
      "[INFO] reading 00155.jpg\n",
      "[INFO] reading 00156.jpg\n",
      "[INFO] reading 00157.jpg\n",
      "[INFO] reading 00158.jpg\n",
      "[INFO] reading 00159.jpg\n",
      "[INFO] reading 00160.jpg\n",
      "[INFO] reading 00161.jpg\n",
      "[INFO] reading 00162.jpg\n",
      "[INFO] reading 00163.jpg\n",
      "[INFO] reading 00164.jpg\n",
      "[INFO] reading 00165.jpg\n",
      "[INFO] reading 00166.jpg\n",
      "[INFO] reading 00167.jpg\n",
      "[INFO] reading 00168.jpg\n",
      "[INFO] reading 00169.jpg\n",
      "[INFO] reading 00170.jpg\n",
      "[INFO] reading 00171.jpg\n",
      "[INFO] reading 00172.jpg\n",
      "[INFO] reading 00173.jpg\n",
      "[INFO] reading 00174.jpg\n",
      "[INFO] reading 00175.jpg\n",
      "[INFO] reading 00176.jpg\n",
      "[INFO] reading 00177.jpg\n",
      "[INFO] reading 00178.jpg\n",
      "[INFO] reading 00179.jpg\n",
      "[INFO] reading 00180.jpg\n",
      "[INFO] reading 00181.jpg\n",
      "[INFO] reading 00182.jpg\n",
      "[INFO] reading 00183.jpg\n",
      "[INFO] reading 00184.jpg\n",
      "[INFO] reading 00185.jpg\n",
      "[INFO] reading 00186.jpg\n",
      "[INFO] reading 00187.jpg\n",
      "[INFO] reading 00188.jpg\n",
      "[INFO] reading 00189.jpg\n",
      "[INFO] reading 00190.jpg\n",
      "[INFO] reading 00191.jpg\n",
      "[INFO] reading 00192.jpg\n",
      "[INFO] reading 00193.jpg\n",
      "[INFO] reading 00194.jpg\n",
      "[INFO] reading 00195.jpg\n",
      "[INFO] reading 00196.jpg\n",
      "[INFO] reading 00197.jpg\n",
      "[INFO] reading 00198.jpg\n",
      "[INFO] reading 00199.jpg\n",
      "[INFO] reading 00200.jpg\n",
      "[INFO] reading 00201.jpg\n",
      "[INFO] reading 00202.jpg\n",
      "[INFO] reading 00203.jpg\n",
      "[INFO] reading 00204.jpg\n",
      "[INFO] reading 00205.jpg\n",
      "[INFO] reading 00206.jpg\n",
      "[INFO] reading 00207.jpg\n",
      "[INFO] reading 00208.jpg\n",
      "[INFO] reading 00209.jpg\n",
      "[INFO] reading 00210.jpg\n",
      "[INFO] reading 00211.jpg\n",
      "[INFO] reading 00212.jpg\n",
      "[INFO] reading 00213.jpg\n",
      "[INFO] reading 00214.jpg\n",
      "[INFO] reading 00215.jpg\n",
      "[INFO] reading 00216.jpg\n",
      "[INFO] reading 00217.jpg\n",
      "[INFO] reading 00218.jpg\n",
      "[INFO] reading 00219.jpg\n",
      "[INFO] reading 00220.jpg\n",
      "[INFO] reading 00221.jpg\n",
      "[INFO] reading 00222.jpg\n",
      "[INFO] reading 00223.jpg\n",
      "[INFO] reading 00224.jpg\n",
      "[INFO] reading 00225.jpg\n",
      "[INFO] reading 00226.jpg\n",
      "[INFO] reading 00227.jpg\n",
      "[INFO] reading 00228.jpg\n",
      "[INFO] reading 00229.jpg\n",
      "[INFO] reading 00230.jpg\n",
      "[INFO] reading 00231.jpg\n",
      "[INFO] reading 00232.jpg\n",
      "[INFO] reading 00233.jpg\n",
      "[INFO] reading 00234.jpg\n",
      "[INFO] reading 00235.jpg\n",
      "[INFO] reading 00236.jpg\n",
      "[INFO] reading 00237.jpg\n",
      "[INFO] reading 00238.jpg\n",
      "[INFO] reading 00239.jpg\n",
      "[INFO] reading 00240.jpg\n",
      "[INFO] reading 00241.jpg\n",
      "[INFO] reading 00242.jpg\n",
      "[INFO] reading 00243.jpg\n",
      "[INFO] reading 00244.jpg\n",
      "[INFO] reading 00245.jpg\n",
      "[INFO] reading 00246.jpg\n",
      "[INFO] reading 00247.jpg\n",
      "[INFO] reading 00248.jpg\n",
      "[INFO] reading 00249.jpg\n",
      "[INFO] reading 00250.jpg\n",
      "[INFO] reading 00251.jpg\n",
      "[INFO] reading 00252.jpg\n",
      "[INFO] reading 00253.jpg\n",
      "[INFO] reading 00254.jpg\n",
      "[INFO] reading 00255.jpg\n",
      "[INFO] reading 00256.jpg\n",
      "[INFO] reading 00257.jpg\n",
      "[INFO] reading 00258.jpg\n",
      "[INFO] reading 00259.jpg\n",
      "[INFO] reading 00260.jpg\n",
      "[INFO] reading 00261.jpg\n",
      "[INFO] reading 00262.jpg\n",
      "[INFO] reading 00263.jpg\n",
      "[INFO] reading 00264.jpg\n",
      "[INFO] reading 00265.jpg\n",
      "[INFO] reading 00266.jpg\n",
      "[INFO] reading 00267.jpg\n",
      "[INFO] reading 00268.jpg\n",
      "[INFO] reading 00269.jpg\n",
      "[INFO] reading 00270.jpg\n",
      "[INFO] reading 00271.jpg\n",
      "[INFO] reading 00272.jpg\n",
      "[INFO] reading 00273.jpg\n",
      "[INFO] reading 00274.jpg\n",
      "[INFO] reading 00275.jpg\n",
      "[INFO] reading 00276.jpg\n",
      "[INFO] reading 00277.jpg\n",
      "[INFO] reading 00278.jpg\n",
      "[INFO] reading 00279.jpg\n",
      "[INFO] reading 00280.jpg\n",
      "[INFO] reading 00281.jpg\n",
      "[INFO] reading 00282.jpg\n",
      "[INFO] reading 00283.jpg\n",
      "[INFO] reading 00284.jpg\n",
      "[INFO] reading 00285.jpg\n",
      "[INFO] reading 00286.jpg\n",
      "[INFO] reading 00287.jpg\n",
      "[INFO] reading 00288.jpg\n",
      "[INFO] reading 00289.jpg\n",
      "[INFO] reading 00290.jpg\n",
      "[INFO] reading 00291.jpg\n",
      "[INFO] reading 00292.jpg\n",
      "[INFO] reading 00293.jpg\n",
      "[INFO] reading 00294.jpg\n",
      "[INFO] reading 00295.jpg\n",
      "[INFO] reading 00296.jpg\n",
      "[INFO] reading 00297.jpg\n",
      "[INFO] reading 00298.jpg\n",
      "[INFO] reading 00299.jpg\n",
      "[INFO] reading 00300.jpg\n",
      "[INFO] reading 00301.jpg\n",
      "[INFO] reading 00302.jpg\n",
      "[INFO] reading 00303.jpg\n",
      "[INFO] reading 00304.jpg\n",
      "[INFO] reading 00305.jpg\n",
      "[INFO] reading 00306.jpg\n",
      "[INFO] reading 00307.jpg\n",
      "[INFO] reading 00308.jpg\n",
      "[INFO] reading 00309.jpg\n",
      "[INFO] reading 00310.jpg\n",
      "[INFO] reading 00311.jpg\n",
      "[INFO] reading 00312.jpg\n",
      "[INFO] reading 00313.jpg\n",
      "[INFO] reading 00314.jpg\n",
      "[INFO] reading 00315.jpg\n",
      "[INFO] reading 00316.jpg\n",
      "[INFO] reading 00317.jpg\n",
      "[INFO] reading 00318.jpg\n",
      "[INFO] reading 00319.jpg\n",
      "[INFO] reading 00320.jpg\n"
     ]
    },
    {
     "name": "stdout",
     "output_type": "stream",
     "text": [
      "[INFO] reading 00321.jpg\n",
      "[INFO] reading 00322.jpg\n",
      "[INFO] reading 00323.jpg\n",
      "[INFO] reading 00324.jpg\n",
      "[INFO] reading 00325.jpg\n",
      "[INFO] reading 00326.jpg\n",
      "[INFO] reading 00327.jpg\n",
      "[INFO] reading 00328.jpg\n",
      "[INFO] reading 00329.jpg\n",
      "[INFO] reading 00330.jpg\n",
      "[INFO] reading 00331.jpg\n",
      "[INFO] reading 00332.jpg\n",
      "[INFO] reading 00333.jpg\n",
      "[INFO] reading 00334.jpg\n",
      "[INFO] reading 00335.jpg\n",
      "[INFO] reading 00336.jpg\n",
      "[INFO] reading 00337.jpg\n",
      "[INFO] reading 00338.jpg\n",
      "[INFO] reading 00339.jpg\n",
      "[INFO] reading 00340.jpg\n",
      "[INFO] reading 00341.jpg\n",
      "[INFO] reading 00342.jpg\n",
      "[INFO] reading 00343.jpg\n",
      "[INFO] reading 00344.jpg\n",
      "[INFO] reading 00345.jpg\n",
      "[INFO] reading 00346.jpg\n",
      "[INFO] reading 00347.jpg\n",
      "[INFO] reading 00348.jpg\n",
      "[INFO] reading 00349.jpg\n",
      "[INFO] reading 00350.jpg\n",
      "[INFO] reading 00351.jpg\n",
      "[INFO] reading 00352.jpg\n",
      "[INFO] reading 00353.jpg\n",
      "[INFO] reading 00354.jpg\n",
      "[INFO] reading 00355.jpg\n",
      "[INFO] reading 00356.jpg\n",
      "[INFO] reading 00357.jpg\n",
      "[INFO] reading 00358.jpg\n",
      "[INFO] reading 00359.jpg\n",
      "[INFO] reading 00360.jpg\n",
      "[INFO] reading 00361.jpg\n",
      "[INFO] reading 00362.jpg\n",
      "[INFO] reading 00363.jpg\n",
      "[INFO] reading 00364.jpg\n",
      "[INFO] reading 00365.jpg\n",
      "[INFO] reading 00366.jpg\n",
      "[INFO] reading 00367.jpg\n",
      "[INFO] reading 00368.jpg\n",
      "[INFO] reading 00369.jpg\n",
      "[INFO] reading 00370.jpg\n",
      "[INFO] reading 00371.jpg\n",
      "[INFO] reading 00372.jpg\n",
      "[INFO] reading 00373.jpg\n",
      "[INFO] reading 00374.jpg\n",
      "[INFO] reading 00375.jpg\n",
      "[INFO] reading 00376.jpg\n",
      "[INFO] reading 00377.jpg\n",
      "[INFO] reading 00378.jpg\n",
      "[INFO] reading 00379.jpg\n",
      "[INFO] reading 00380.jpg\n",
      "[INFO] reading 00381.jpg\n",
      "[INFO] reading 00382.jpg\n",
      "[INFO] reading 00383.jpg\n",
      "[INFO] reading 00384.jpg\n",
      "[INFO] reading 00385.jpg\n",
      "[INFO] reading 00386.jpg\n",
      "[INFO] reading 00387.jpg\n",
      "[INFO] reading 00388.jpg\n",
      "[INFO] reading 00389.jpg\n",
      "[INFO] reading 00390.jpg\n",
      "[INFO] reading 00391.jpg\n",
      "[INFO] reading 00392.jpg\n",
      "[INFO] reading 00393.jpg\n",
      "[INFO] reading 00394.jpg\n",
      "[INFO] reading 00395.jpg\n",
      "[INFO] reading 00396.jpg\n",
      "[INFO] reading 00397.jpg\n",
      "[INFO] reading 00398.jpg\n",
      "[INFO] reading 00399.jpg\n",
      "[INFO] reading 00400.jpg\n",
      "[INFO] reading 00401.jpg\n",
      "[INFO] reading 00402.jpg\n",
      "[INFO] reading 00403.jpg\n",
      "[INFO] reading 00404.jpg\n",
      "[INFO] reading 00405.jpg\n",
      "[INFO] reading 00406.jpg\n",
      "[INFO] reading 00407.jpg\n",
      "[INFO] reading 00408.jpg\n",
      "[INFO] reading 00409.jpg\n",
      "[INFO] reading 00410.jpg\n",
      "[INFO] reading 00411.jpg\n",
      "[INFO] reading 00412.jpg\n",
      "[INFO] reading 00413.jpg\n",
      "[INFO] reading 00414.jpg\n",
      "[INFO] reading 00415.jpg\n",
      "[INFO] cleaning up video writer\n",
      "It took 41 seconds forconversion.\n",
      "The output video is F://term7//CV//ProjectTrail//videos//IMG_5161_bilate.mov\n",
      "total time video saving 41.5581488609314\n"
     ]
    }
   ],
   "source": [
    "\n",
    "time_start = time.time()\n",
    "#video_file = \"F://term7//CV//ProjectTrail//videos//File_001.mov\"\n",
    "frame_file =  \"F:\\\\term7\\\\CV\\\\ProjectTrail\\Output003adath\\\\\"\n",
    "output_video_loc =  \"F://term7//CV//ProjectTrail//videos//IMG_5161_bilate.mov\"\n",
    "from video import video\n",
    "v = video(video_file)\n",
    "v.frames_to_video(output_video_loc, input_loc=frame_file, debug=True)\n",
    "print(\"total time video saving {}\".format(time.time()-time_start))"
   ]
  },
  {
   "cell_type": "code",
   "execution_count": null,
   "metadata": {
    "collapsed": true
   },
   "outputs": [],
   "source": []
  },
  {
   "cell_type": "code",
   "execution_count": null,
   "metadata": {
    "collapsed": true
   },
   "outputs": [],
   "source": []
  },
  {
   "cell_type": "code",
   "execution_count": null,
   "metadata": {
    "collapsed": true
   },
   "outputs": [],
   "source": []
  },
  {
   "cell_type": "code",
   "execution_count": null,
   "metadata": {
    "collapsed": true
   },
   "outputs": [],
   "source": []
  },
  {
   "cell_type": "code",
   "execution_count": null,
   "metadata": {
    "collapsed": true
   },
   "outputs": [],
   "source": []
  },
  {
   "cell_type": "markdown",
   "metadata": {},
   "source": [
    "# last testing on the video capture near canteen"
   ]
  },
  {
   "cell_type": "code",
   "execution_count": 35,
   "metadata": {},
   "outputs": [
    {
     "name": "stdout",
     "output_type": "stream",
     "text": [
      "(1080, 1920)\n",
      "(1080, 1920)\n"
     ]
    },
    {
     "data": {
      "image/png": "[encoded data removed]",
      "text/plain": [
       "<matplotlib.figure.Figure at 0x2931de16390>"
      ]
     },
     "metadata": {},
     "output_type": "display_data"
    }
   ],
   "source": [
    "# input is called origin_img\n",
    "\n",
    "PATH = \"F:\\\\term7\\\\CV\\\\ProjectTrail\\\\IMG_5161frame\\\\\"\n",
    "origin_img = PATH + \"00541.jpg\"\n",
    "origin_img = cv2.imread(origin_img, 0).astype(np.float32)\n",
    "\n",
    "result_planes = []\n",
    "result_norm_planes = []\n",
    "plane = origin_img.astype(np.uint8)\n",
    "dilated_img = cv2.dilate(plane, np.ones((7,7), np.uint8))\n",
    "\n",
    "plt.subplot(231)\n",
    "plt.imshow(origin_img, cmap='gray')\n",
    "plt.title('origin')\n",
    "\n",
    "dilated_img = dilated_img\n",
    "bg_img = cv2.medianBlur(dilated_img, 5)\n",
    "\n",
    "plt.subplot(232)\n",
    "plt.imshow(bg_img, cmap='gray')\n",
    "plt.title('median blur')\n",
    "\n",
    "print(plane.shape) \n",
    "print(bg_img.shape)\n",
    "cv2.absdiff(plane, bg_img)\n",
    "\n",
    "diff_img = 255 - cv2.absdiff(plane, bg_img)\n",
    "norm_img= diff_img\n",
    "norm_img = cv2.normalize(diff_img, norm_img, alpha=0, \n",
    "                         beta=255, norm_type=cv2.NORM_MINMAX, \n",
    "                         dtype=cv2.CV_8UC1)\n",
    "result_planes.append(diff_img)\n",
    "result_norm_planes.append(norm_img)\n",
    "\n",
    "result = cv2.merge(result_planes)\n",
    "result_norm2 = cv2.merge(result_norm_planes)\n",
    "\n",
    "result_morp = tophat(result_norm2,element=(1,1))\n",
    "\n",
    "cv2.imwrite('shadows_out.png', result)\n",
    "cv2.imwrite('shadows_out_norm.png', result_norm2)\n",
    "\n",
    "plt.subplot(233)\n",
    "plt.imshow(result, cmap='gray')\n",
    "plt.title('result norm')\n",
    "\n",
    "plt.subplot(234)\n",
    "plt.imshow(result_morp, cmap='gray')\n",
    "plt.title('after tophat')\n",
    "\n",
    "adath = adaptiveThreshold(plane)\n",
    "plt.subplot(235)\n",
    "plt.imshow(adath, cmap='gray')\n",
    "plt.title('adaptive thresholding')\n",
    "\n",
    "\n",
    "plt.show()"
   ]
  }
 ],
 "metadata": {
  "kernelspec": {
   "display_name": "Python 3",
   "language": "python",
   "name": "python3"
  },
  "language_info": {
   "codemirror_mode": {
    "name": "ipython",
    "version": 3
   },
   "file_extension": ".py",
   "mimetype": "text/x-python",
   "name": "python",
   "nbconvert_exporter": "python",
   "pygments_lexer": "ipython3",
   "version": "3.6.2"
  }
 },
 "nbformat": 4,
 "nbformat_minor": 2
}
