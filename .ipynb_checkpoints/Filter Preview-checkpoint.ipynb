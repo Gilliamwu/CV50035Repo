{
 "cells": [
  {
   "cell_type": "code",
   "execution_count": null,
   "metadata": {
    "collapsed": true
   },
   "outputs": [],
   "source": [
    "# automatically reload imported modules\n",
    "%load_ext autoreload\n",
    "%autoreload 2\n",
    "\n",
    "import cv2\n",
    "import numpy as np\n",
    "import sys\n",
    "import matplotlib\n",
    "from matplotlib import pyplot as plt\n",
    "import pylab as pl\n",
    "\n",
    "from filters import GrayscaleNormalizer\n",
    "\n",
    "# This is a bit of magic to make matplotlib figures appear inline in the notebook\n",
    "# rather than in a new window.\n",
    "%matplotlib inline\n",
    "plt.rcParams['figure.figsize'] = (10.0, 8.0) # set default size of plots\n",
    "plt.rcParams['image.interpolation'] = 'nearest'\n",
    "plt.rcParams['image.cmap'] = 'gray'\n",
    "\n",
    "FOLDER_PATH = '/Users/delinwang/Desktop/Concrete Crack Images for Classification.rar Folder/'\n",
    "FOLDER_PATH = 'C:/Users/Dominic/Desktop/Concrete Crack Images for Classification/'\n",
    "\n",
    "SUTD_PATH = 'C:/Users/Dominic/Desktop/SUTD Cracks/'"
   ]
  },
  {
   "cell_type": "code",
   "execution_count": null,
   "metadata": {
    "collapsed": true
   },
   "outputs": [],
   "source": [
    "imgs = []\n",
    "normalize_grayscale = GrayscaleNormalizer()\n",
    "\n",
    "img = cv2.imread(FOLDER_PATH + 'Positive/00001.jpg', 0).astype(np.float32)\n",
    "imgs.append( normalize_grayscale(img) )\n",
    "\n",
    "img = cv2.imread(SUTD_PATH + 'Positive/00001.jpg', 0).astype(np.float32)\n",
    "imgs.append( normalize_grayscale(img) )"
   ]
  },
  {
   "cell_type": "code",
   "execution_count": null,
   "metadata": {
    "collapsed": true
   },
   "outputs": [],
   "source": [
    "from filters import *\n",
    "import preprocessing.shadow_reduction\n",
    "\n",
    "filters = {}\n",
    "\n",
    "grayscale       = GrayscaleNormalizer()\n",
    "bilateral_canny = BilateralCanny()\n",
    "kernel = np.ones((5,5),np.uint8)\n",
    "\n",
    "# filters['no filter']       = lambda x : x\n",
    "filters['canny']           = bilateral_canny.canny_img\n",
    "filters['bilateral canny'] = bilateral_canny.bilateral_canny_img\n",
    "filters['canny gradient']  = canny_gradient\n",
    "\n",
    "filters['otsu']            = otsu\n",
    "filters['tophat']          = tophat\n",
    "filters['blackhat']        = blackhat\n",
    "filters['gradient']        = gradient\n",
    "filters['gradient2']       = gradient2\n",
    "filters['gradient3']       = gradient3\n",
    "\n",
    "filters['grayscale']       = grayscale\n",
    "filters['adaptive']        = lambda x : cv2.adaptiveThreshold(x.astype(np.uint8),255,cv2.ADAPTIVE_THRESH_GAUSSIAN_C, cv2.THRESH_BINARY,11,5)\n",
    "\n",
    "filters['close5x5']        = lambda x : cv2.morphologyEx(x, cv2.MORPH_CLOSE, kernel)\n",
    "filters['open5x5']         = lambda x : cv2.morphologyEx(x, cv2.MORPH_OPEN, kernel)\n",
    "filters['dilate5x5']       = lambda x : cv2.dilate(x, kernel, iterations = 1)\n",
    "filters['dilate5x5']       = lambda x : cv2.erode(x, kernel, iterations = 1)\n",
    "filters['gradient5x5']     = lambda x : cv2.morphologyEx(x, cv2.MORPH_GRADIENT, kernel)\n",
    "filters['tophat5x5']       = lambda x : cv2.morphologyEx(x, cv2.MORPH_BLACKHAT, kernel)\n",
    "filters['blackhat5x5']     = lambda x : cv2.morphologyEx(x, cv2.MORPH_TOPHAT, kernel)\n",
    "\n",
    "filters['thres_bin127']          = lambda x : cv2.threshold(x,127,255,cv2.THRESH_BINARY)[1]\n",
    "filters['thres_bininv127']       = lambda x : cv2.threshold(x,127,255,cv2.THRESH_BINARY_INV)[1]\n",
    "filters['thres_bintrunc127']     = lambda x : cv2.threshold(x,127,255,cv2.THRESH_TRUNC)[1]\n",
    "filters['thres_bintozero127']    = lambda x : cv2.threshold(x,127,255,cv2.THRESH_TOZERO)[1]\n",
    "filters['thres_bintozeroinv127'] = lambda x : cv2.threshold(x,127,255,cv2.THRESH_TOZERO_INV)[1]\n",
    "\n",
    "filters2 = {}\n",
    "\n",
    "for f1_name, f1_func in filters.items():\n",
    "    for f2_name, f2_func in filters.items():\n",
    "        def combination_func():\n",
    "            a = f1_func\n",
    "            b = f2_func\n",
    "            return lambda x : a(b(x))\n",
    "\n",
    "        filters2[\"{0}\\n{1}\".format(f1_name, f2_name)] = combination_func()\n",
    "            \n",
    "# filters3 = {}\n",
    "\n",
    "# for f1_name, f1_func in filters.items():\n",
    "#     for f2_name, f2_func in filters.items():\n",
    "#         for f3_name, f3_func in filters.items():\n",
    "#             def combination_func():\n",
    "#                 a = f1_func\n",
    "#                 b = f2_func\n",
    "#                 c = f3_func\n",
    "#                 return lambda x : a(b(c(x)))\n",
    "\n",
    "#             filters_SQR[\"{0}\\n{1}\\n{2}\".format(f1_name, f2_name, f3_name)] = combination_func()\n",
    "\n",
    "filters = filters2"
   ]
  },
  {
   "cell_type": "code",
   "execution_count": null,
   "metadata": {
    "collapsed": true,
    "scrolled": false
   },
   "outputs": [],
   "source": [
    "fig_size = (18, 9)\n",
    "\n",
    "r = len(filters)//6+1\n",
    "plt.figure(figsize=fig_size)\n",
    "\n",
    "i = 0\n",
    "for filter_name, filter_func in filters.items():\n",
    "    for idx in range(len(imgs)):\n",
    "        img = imgs[idx]\n",
    "        plt.subplot(1, 6, i % 6 + 1),plt.imshow(filter_func(img), cmap='gray')\n",
    "        plt.title(\"{0}\\n{1}\".format(idx, filter_name)),plt.xticks([]),plt.yticks([])\n",
    "\n",
    "        i += 1\n",
    "\n",
    "        if i % 6 == 0:\n",
    "            plt.show()\n",
    "            plt.figure(figsize=fig_size)\n",
    "\n",
    "if i % 6 != 0:\n",
    "    plt.show()"
   ]
  }
 ],
 "metadata": {
  "kernelspec": {
   "display_name": "Python 3",
   "language": "python",
   "name": "python3"
  },
  "language_info": {
   "codemirror_mode": {
    "name": "ipython",
    "version": 3
   },
   "file_extension": ".py",
   "mimetype": "text/x-python",
   "name": "python",
   "nbconvert_exporter": "python",
   "pygments_lexer": "ipython3",
   "version": "3.6.2"
  }
 },
 "nbformat": 4,
 "nbformat_minor": 2
}
