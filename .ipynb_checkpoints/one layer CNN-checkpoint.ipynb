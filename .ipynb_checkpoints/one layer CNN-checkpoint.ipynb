{
 "cells": [
  {
   "cell_type": "code",
   "execution_count": 15,
   "metadata": {},
   "outputs": [
    {
     "name": "stdout",
     "output_type": "stream",
     "text": [
      "The autoreload extension is already loaded. To reload it, use:\n",
      "  %reload_ext autoreload\n"
     ]
    }
   ],
   "source": [
    "# automatically reload imported modules\n",
    "%load_ext autoreload\n",
    "%autoreload 2"
   ]
  },
  {
   "cell_type": "markdown",
   "metadata": {
    "collapsed": true
   },
   "source": [
    "## training a model, better 1 layer CNN"
   ]
  },
  {
   "cell_type": "code",
   "execution_count": 1,
   "metadata": {
    "scrolled": true
   },
   "outputs": [
    {
     "name": "stdout",
     "output_type": "stream",
     "text": [
      "(400, 227, 227) (400,)\n"
     ]
    }
   ],
   "source": [
    "import helper.get_image\n",
    "import numpy as np\n",
    "\n",
    "FOLDER_PATH = 'F://term7//CV//reference'\n",
    "\n",
    "# random\n",
    "train_size = 200\n",
    "test_size = 100\n",
    "val_size = 40\n",
    "\n",
    "img_range = np.arange(1, 800)\n",
    "X_train_pos_idx, X_test_pos_idx, X_val_pos_idx = helper.get_random_indices(img_range, train_size, test_size, val_size)\n",
    "X_train_neg_idx, X_test_neg_idx, X_val_neg_idx = helper.get_random_indices(img_range, train_size, test_size, val_size)\n",
    "\n",
    "X_train, Y_train = helper.get_concrete_data(X_train_pos_idx, X_train_neg_idx, path = FOLDER_PATH)\n",
    "#X_test , Y_test  = helper.get_concrete_data(X_test_pos_idx, X_test_neg_idx, path = FOLDER_PATH)\n",
    "#X_val  , Y_val   = helper.get_concrete_data(X_val_pos_idx, X_val_neg_idx, path = FOLDER_PATH)\n",
    "\n",
    "print( X_train.shape, Y_train.shape )\n",
    "#print( X_test.shape , Y_test.shape  )\n",
    "#print( X_val.shape  , Y_val.shape   )"
   ]
  },
  {
   "cell_type": "code",
   "execution_count": 2,
   "metadata": {
    "collapsed": true
   },
   "outputs": [],
   "source": [
    "from filters.bilateral import bilateral_canny\n",
    "bilateral_canny = bilateral_canny()\n",
    "for idx in range(X_train.shape[0]):\n",
    "    X_train[idx] = bilateral_canny.bilateral_canny_img(X_train[idx]) "
   ]
  },
  {
   "cell_type": "code",
   "execution_count": 3,
   "metadata": {
    "collapsed": true
   },
   "outputs": [],
   "source": [
    "X_train_flat = X_train.reshape(X_train.shape[0],-1)"
   ]
  },
  {
   "cell_type": "code",
   "execution_count": 4,
   "metadata": {},
   "outputs": [
    {
     "data": {
      "text/plain": [
       "LogisticRegression(C=100000.0, class_weight=None, dual=False,\n",
       "          fit_intercept=True, intercept_scaling=1, max_iter=100,\n",
       "          multi_class='ovr', n_jobs=1, penalty='l2', random_state=None,\n",
       "          solver='liblinear', tol=0.0001, verbose=0, warm_start=False)"
      ]
     },
     "execution_count": 4,
     "metadata": {},
     "output_type": "execute_result"
    }
   ],
   "source": [
    "# train a logistic model\n",
    "from sklearn import linear_model\n",
    "model = linear_model.LogisticRegression(C=1e5)\n",
    "model.fit(X_train_flat, Y_train)"
   ]
  },
  {
   "cell_type": "code",
   "execution_count": null,
   "metadata": {
    "collapsed": true
   },
   "outputs": [],
   "source": []
  },
  {
   "cell_type": "code",
   "execution_count": null,
   "metadata": {
    "collapsed": true
   },
   "outputs": [],
   "source": []
  },
  {
   "cell_type": "markdown",
   "metadata": {},
   "source": [
    "## video generation"
   ]
  },
  {
   "cell_type": "markdown",
   "metadata": {},
   "source": [
    "### video to frames"
   ]
  },
  {
   "cell_type": "code",
   "execution_count": 5,
   "metadata": {
    "collapsed": true,
    "scrolled": true
   },
   "outputs": [],
   "source": [
    "video_file = \"F://term7//CV//ProjectTrail//videos//File_002.mov\"\n",
    "frame_folder = \"F://term7//CV//ProjectTrail//File_002frame\"\n",
    "output_frame_folder =  \"F:\\\\term7\\\\CV\\\\ProjectTrail\\Output002adath\\\\\"\n",
    "output_video = \"F://term7//CV//ProjectTrail//videos//OutFile_002.mov\"\n",
    "\n",
    "from video import video\n",
    "v = video(video_file)\n",
    "# v.video_to_frames(frame_folder)"
   ]
  },
  {
   "cell_type": "markdown",
   "metadata": {},
   "source": [
    "### process to video"
   ]
  },
  {
   "cell_type": "code",
   "execution_count": 16,
   "metadata": {
    "collapsed": true
   },
   "outputs": [],
   "source": [
    " %reload_ext autoreload"
   ]
  },
  {
   "cell_type": "code",
   "execution_count": 17,
   "metadata": {
    "scrolled": true
   },
   "outputs": [
    {
     "name": "stdout",
     "output_type": "stream",
     "text": [
      "['__builtins__', '__cached__', '__doc__', '__file__', '__loader__', '__name__', '__package__', '__path__', '__spec__', 'binary_dilation', 'ceil', 'cv2', 'floor', 'generate_shadowed_img', 'generate_sub_frames', 'get_concrete_data', 'get_image', 'get_images', 'get_random_indices', 'get_stride', 'ndimage', 'np', 'rolling_window', 'save_image', 'shade_area', 'sys', 'utils']\n"
     ]
    }
   ],
   "source": [
    "from preprocessing import shadow_reduction\n",
    "import helper.utils\n",
    "import helper\n",
    "print(dir(helper))\n",
    "from helper import rolling_window, shade_area, utils, generate_shadowed_img\n",
    "import preprocessing.shadow_reduction\n",
    "import cv2"
   ]
  },
  {
   "cell_type": "code",
   "execution_count": 18,
   "metadata": {
    "collapsed": true
   },
   "outputs": [],
   "source": [
    "import time\n",
    "import os"
   ]
  },
  {
   "cell_type": "markdown",
   "metadata": {},
   "source": [
    "## CAREFUL!\n",
    "in the cell below:         frame_final = generate_shadowed_img(frame, frame_after_canny, model)\n",
    "\n",
    "in the function generate_shadowed_img, model.predict(img) will be called. So for CNN check the predict function again!!!!!"
   ]
  },
  {
   "cell_type": "code",
   "execution_count": 19,
   "metadata": {
    "collapsed": true,
    "scrolled": true
   },
   "outputs": [],
   "source": [
    "input_format = 'jpg'\n",
    "\n",
    "from filters.bilateral import bilateral_canny\n",
    "bilateral_canny_video = bilateral_canny()\n",
    "\n",
    "import time\n",
    "time_start = time.time()\n",
    "time_pre = time.time()\n",
    "time_norm = 0\n",
    "time_canny =  0\n",
    "time_predict_and_shadow = 0\n",
    "time_save = 0\n",
    "\n",
    "count = 0\n",
    "frameid = 0\n",
    "timelog = False\n",
    "\n",
    "for f in os.listdir(frame_folder):\n",
    "    if f.endswith(input_format):\n",
    "        image_path = os.path.join(frame_folder, f)\n",
    "        frame = cv2.imread(image_path)\n",
    "        gray_frame = cv2.cvtColor(frame, cv2.COLOR_BGR2GRAY)\n",
    "        \n",
    "        # reduce shadow by dilate, median, or threshold\n",
    "\n",
    "        if timelog:\n",
    "            time_pre = time.time()\n",
    "# shadow reduction\n",
    "#         frame_shadow_reduced = norm_dilate_median(gray_frame)\n",
    "        frame_shadow_reduced = shadow_reduction.adaptiveThreshold(gray_frame)\n",
    "        if timelog:\n",
    "            time_norm += time.time() - time_pre\n",
    "            time_pre = time.time()\n",
    "            \n",
    "        # generate output after canny filter, or tophat\n",
    "        frame_after_canny = bilateral_canny_video.canny_img(frame_shadow_reduced)\n",
    "#         frame_after_canny = tophat(frame_shadow_reduced,element=(6,6))\n",
    "        if timelog:\n",
    "            time_canny += time.time() - time_pre\n",
    "            time_pre = time.time()    \n",
    "        \n",
    "        frame_final = generate_shadowed_img(frame, frame_after_canny, model)\n",
    "        time_predict_and_shadow += time.time() - time_pre\n",
    "        time_pre = time.time()\n",
    "        \n",
    "        # save to folder\n",
    "        utils.save_image(cv2.cvtColor(frame_final, cv2.COLOR_RGB2BGR), output_frame_folder, f)\n",
    "        time_save= time.time() - time_pre\n",
    "        time_pre = time.time()    \n",
    "        \n",
    "if timelog:\n",
    "    print(\"total time for frames generation is {}\".format(time.time()-time_start))\n",
    "    print(\"time norm{}\".format(time_norm))\n",
    "    print(\"time_canny{}\".format(time_canny))\n",
    "    print(\"time_predict_and_shadow{}\".format(time_predict_and_shadow))\n",
    "    print(\"time_save{}\".format(time_save))"
   ]
  },
  {
   "cell_type": "markdown",
   "metadata": {},
   "source": [
    "### output to video"
   ]
  },
  {
   "cell_type": "code",
   "execution_count": 20,
   "metadata": {},
   "outputs": [
    {
     "name": "stdout",
     "output_type": "stream",
     "text": [
      "[INFO] fps not defined from parameter or input. getting fps from origional video\n",
      "[INFO] actual fps is 30\n",
      "[INFO] no specificed image file format for input frames. JPG will be used\n",
      "press q to exit cv2 window\n",
      "[INFO] reading 00000.jpg\n",
      "[INFO] reading 00001.jpg\n",
      "[INFO] reading 00002.jpg\n",
      "[INFO] reading 00003.jpg\n",
      "[INFO] reading 00004.jpg\n",
      "[INFO] reading 00005.jpg\n",
      "[INFO] reading 00006.jpg\n",
      "[INFO] reading 00007.jpg\n",
      "[INFO] reading 00008.jpg\n",
      "[INFO] reading 00009.jpg\n",
      "[INFO] reading 00010.jpg\n",
      "[INFO] reading 00011.jpg\n",
      "[INFO] reading 00012.jpg\n",
      "[INFO] reading 00013.jpg\n",
      "[INFO] reading 00014.jpg\n",
      "[INFO] reading 00015.jpg\n",
      "[INFO] reading 00016.jpg\n",
      "[INFO] reading 00017.jpg\n",
      "[INFO] reading 00018.jpg\n",
      "[INFO] reading 00019.jpg\n",
      "[INFO] reading 00020.jpg\n",
      "[INFO] reading 00021.jpg\n",
      "[INFO] reading 00022.jpg\n",
      "[INFO] reading 00023.jpg\n",
      "[INFO] reading 00024.jpg\n",
      "[INFO] reading 00025.jpg\n",
      "[INFO] reading 00026.jpg\n",
      "[INFO] reading 00027.jpg\n",
      "[INFO] reading 00028.jpg\n",
      "[INFO] reading 00029.jpg\n",
      "[INFO] reading 00030.jpg\n",
      "[INFO] reading 00031.jpg\n",
      "[INFO] reading 00032.jpg\n",
      "[INFO] reading 00033.jpg\n",
      "[INFO] reading 00034.jpg\n",
      "[INFO] reading 00035.jpg\n",
      "[INFO] reading 00036.jpg\n",
      "[INFO] reading 00037.jpg\n",
      "[INFO] reading 00038.jpg\n",
      "[INFO] reading 00039.jpg\n",
      "[INFO] reading 00040.jpg\n",
      "[INFO] reading 00041.jpg\n",
      "[INFO] reading 00042.jpg\n",
      "[INFO] reading 00043.jpg\n",
      "[INFO] reading 00044.jpg\n",
      "[INFO] reading 00045.jpg\n",
      "[INFO] reading 00046.jpg\n",
      "[INFO] reading 00047.jpg\n",
      "[INFO] reading 00048.jpg\n",
      "[INFO] reading 00049.jpg\n",
      "[INFO] reading 00050.jpg\n",
      "[INFO] reading 00051.jpg\n",
      "[INFO] reading 00052.jpg\n",
      "[INFO] reading 00053.jpg\n",
      "[INFO] reading 00054.jpg\n",
      "[INFO] reading 00055.jpg\n",
      "[INFO] reading 00056.jpg\n",
      "[INFO] reading 00057.jpg\n",
      "[INFO] reading 00058.jpg\n",
      "[INFO] reading 00059.jpg\n",
      "[INFO] reading 00060.jpg\n",
      "[INFO] reading 00061.jpg\n",
      "[INFO] reading 00062.jpg\n",
      "[INFO] reading 00063.jpg\n",
      "[INFO] reading 00064.jpg\n",
      "[INFO] reading 00065.jpg\n",
      "[INFO] reading 00066.jpg\n",
      "[INFO] reading 00067.jpg\n",
      "[INFO] reading 00068.jpg\n",
      "[INFO] reading 00069.jpg\n",
      "[INFO] reading 00070.jpg\n",
      "[INFO] reading 00071.jpg\n",
      "[INFO] reading 00072.jpg\n",
      "[INFO] reading 00073.jpg\n",
      "[INFO] reading 00074.jpg\n",
      "[INFO] reading 00075.jpg\n",
      "[INFO] reading 00076.jpg\n",
      "[INFO] reading 00077.jpg\n",
      "[INFO] reading 00078.jpg\n",
      "[INFO] reading 00079.jpg\n",
      "[INFO] reading 00080.jpg\n",
      "[INFO] reading 00081.jpg\n",
      "[INFO] reading 00082.jpg\n",
      "[INFO] reading 00083.jpg\n",
      "[INFO] reading 00084.jpg\n",
      "[INFO] reading 00085.jpg\n",
      "[INFO] reading 00086.jpg\n",
      "[INFO] reading 00087.jpg\n",
      "[INFO] reading 00088.jpg\n",
      "[INFO] reading 00089.jpg\n",
      "[INFO] reading 00090.jpg\n",
      "[INFO] reading 00091.jpg\n",
      "[INFO] reading 00092.jpg\n",
      "[INFO] reading 00093.jpg\n",
      "[INFO] reading 00094.jpg\n",
      "[INFO] reading 00095.jpg\n",
      "[INFO] reading 00096.jpg\n",
      "[INFO] reading 00097.jpg\n",
      "[INFO] reading 00098.jpg\n",
      "[INFO] reading 00099.jpg\n",
      "[INFO] reading 00100.jpg\n",
      "[INFO] reading 00101.jpg\n",
      "[INFO] reading 00102.jpg\n",
      "[INFO] reading 00103.jpg\n",
      "[INFO] reading 00104.jpg\n",
      "[INFO] reading 00105.jpg\n",
      "[INFO] reading 00106.jpg\n",
      "[INFO] reading 00107.jpg\n",
      "[INFO] reading 00108.jpg\n",
      "[INFO] reading 00109.jpg\n",
      "[INFO] reading 00110.jpg\n",
      "[INFO] reading 00111.jpg\n",
      "[INFO] reading 00112.jpg\n",
      "[INFO] reading 00113.jpg\n",
      "[INFO] reading 00114.jpg\n",
      "[INFO] reading 00115.jpg\n",
      "[INFO] reading 00116.jpg\n",
      "[INFO] reading 00117.jpg\n",
      "[INFO] reading 00118.jpg\n",
      "[INFO] reading 00119.jpg\n",
      "[INFO] reading 00120.jpg\n",
      "[INFO] reading 00121.jpg\n",
      "[INFO] reading 00122.jpg\n",
      "[INFO] reading 00123.jpg\n",
      "[INFO] reading 00124.jpg\n",
      "[INFO] reading 00125.jpg\n",
      "[INFO] reading 00126.jpg\n",
      "[INFO] reading 00127.jpg\n",
      "[INFO] reading 00128.jpg\n",
      "[INFO] reading 00129.jpg\n",
      "[INFO] reading 00130.jpg\n",
      "[INFO] reading 00131.jpg\n",
      "[INFO] reading 00132.jpg\n",
      "[INFO] reading 00133.jpg\n",
      "[INFO] reading 00134.jpg\n",
      "[INFO] reading 00135.jpg\n",
      "[INFO] reading 00136.jpg\n",
      "[INFO] reading 00137.jpg\n",
      "[INFO] reading 00138.jpg\n",
      "[INFO] reading 00139.jpg\n",
      "[INFO] reading 00140.jpg\n",
      "[INFO] reading 00141.jpg\n",
      "[INFO] reading 00142.jpg\n",
      "[INFO] reading 00143.jpg\n",
      "[INFO] reading 00144.jpg\n",
      "[INFO] reading 00145.jpg\n",
      "[INFO] reading 00146.jpg\n",
      "[INFO] reading 00147.jpg\n",
      "[INFO] reading 00148.jpg\n",
      "[INFO] reading 00149.jpg\n",
      "[INFO] reading 00150.jpg\n",
      "[INFO] reading 00151.jpg\n",
      "[INFO] reading 00152.jpg\n",
      "[INFO] reading 00153.jpg\n",
      "[INFO] reading 00154.jpg\n",
      "[INFO] reading 00155.jpg\n",
      "[INFO] reading 00156.jpg\n",
      "[INFO] reading 00157.jpg\n",
      "[INFO] reading 00158.jpg\n",
      "[INFO] reading 00159.jpg\n",
      "[INFO] reading 00160.jpg\n",
      "[INFO] reading 00161.jpg\n",
      "[INFO] reading 00162.jpg\n",
      "[INFO] reading 00163.jpg\n",
      "[INFO] reading 00164.jpg\n",
      "[INFO] reading 00165.jpg\n",
      "[INFO] reading 00166.jpg\n",
      "[INFO] reading 00167.jpg\n",
      "[INFO] reading 00168.jpg\n",
      "[INFO] reading 00169.jpg\n",
      "[INFO] reading 00170.jpg\n",
      "[INFO] reading 00171.jpg\n",
      "[INFO] reading 00172.jpg\n",
      "[INFO] reading 00173.jpg\n",
      "[INFO] reading 00174.jpg\n",
      "[INFO] reading 00175.jpg\n",
      "[INFO] reading 00176.jpg\n",
      "[INFO] reading 00177.jpg\n",
      "[INFO] reading 00178.jpg\n",
      "[INFO] reading 00179.jpg\n",
      "[INFO] reading 00180.jpg\n",
      "[INFO] reading 00181.jpg\n",
      "[INFO] reading 00182.jpg\n",
      "[INFO] reading 00183.jpg\n",
      "[INFO] reading 00184.jpg\n",
      "[INFO] reading 00185.jpg\n",
      "[INFO] reading 00186.jpg\n",
      "[INFO] reading 00187.jpg\n",
      "[INFO] reading 00188.jpg\n",
      "[INFO] reading 00189.jpg\n",
      "[INFO] reading 00190.jpg\n",
      "[INFO] reading 00191.jpg\n",
      "[INFO] reading 00192.jpg\n",
      "[INFO] reading 00193.jpg\n",
      "[INFO] reading 00194.jpg\n",
      "[INFO] reading 00195.jpg\n",
      "[INFO] reading 00196.jpg\n",
      "[INFO] reading 00197.jpg\n",
      "[INFO] reading 00198.jpg\n",
      "[INFO] reading 00199.jpg\n",
      "[INFO] reading 00200.jpg\n",
      "[INFO] reading 00201.jpg\n",
      "[INFO] reading 00202.jpg\n",
      "[INFO] reading 00203.jpg\n",
      "[INFO] reading 00204.jpg\n",
      "[INFO] reading 00205.jpg\n",
      "[INFO] reading 00206.jpg\n",
      "[INFO] reading 00207.jpg\n",
      "[INFO] reading 00208.jpg\n",
      "[INFO] reading 00209.jpg\n",
      "[INFO] reading 00210.jpg\n",
      "[INFO] reading 00211.jpg\n",
      "[INFO] reading 00212.jpg\n",
      "[INFO] reading 00213.jpg\n",
      "[INFO] reading 00214.jpg\n",
      "[INFO] reading 00215.jpg\n",
      "[INFO] reading 00216.jpg\n",
      "[INFO] reading 00217.jpg\n",
      "[INFO] reading 00218.jpg\n",
      "[INFO] reading 00219.jpg\n",
      "[INFO] reading 00220.jpg\n",
      "[INFO] reading 00221.jpg\n",
      "[INFO] reading 00222.jpg\n",
      "[INFO] reading 00223.jpg\n",
      "[INFO] reading 00224.jpg\n",
      "[INFO] reading 00225.jpg\n",
      "[INFO] reading 00226.jpg\n",
      "[INFO] reading 00227.jpg\n",
      "[INFO] reading 00228.jpg\n",
      "[INFO] reading 00229.jpg\n",
      "[INFO] reading 00230.jpg\n",
      "[INFO] reading 00231.jpg\n",
      "[INFO] reading 00232.jpg\n",
      "[INFO] reading 00233.jpg\n",
      "[INFO] reading 00234.jpg\n",
      "[INFO] reading 00235.jpg\n",
      "[INFO] reading 00236.jpg\n",
      "[INFO] reading 00237.jpg\n",
      "[INFO] reading 00238.jpg\n",
      "[INFO] reading 00239.jpg\n",
      "[INFO] reading 00240.jpg\n",
      "[INFO] reading 00241.jpg\n",
      "[INFO] reading 00242.jpg\n",
      "[INFO] reading 00243.jpg\n",
      "[INFO] reading 00244.jpg\n",
      "[INFO] reading 00245.jpg\n",
      "[INFO] reading 00246.jpg\n",
      "[INFO] reading 00247.jpg\n",
      "[INFO] reading 00248.jpg\n",
      "[INFO] reading 00249.jpg\n",
      "[INFO] reading 00250.jpg\n",
      "[INFO] reading 00251.jpg\n",
      "[INFO] reading 00252.jpg\n",
      "[INFO] reading 00253.jpg\n",
      "[INFO] reading 00254.jpg\n",
      "[INFO] reading 00255.jpg\n",
      "[INFO] reading 00256.jpg\n",
      "[INFO] reading 00257.jpg\n",
      "[INFO] reading 00258.jpg\n",
      "[INFO] reading 00259.jpg\n",
      "[INFO] reading 00260.jpg\n",
      "[INFO] reading 00261.jpg\n",
      "[INFO] reading 00262.jpg\n",
      "[INFO] reading 00263.jpg\n",
      "[INFO] reading 00264.jpg\n",
      "[INFO] reading 00265.jpg\n",
      "[INFO] reading 00266.jpg\n",
      "[INFO] reading 00267.jpg\n",
      "[INFO] reading 00268.jpg\n",
      "[INFO] reading 00269.jpg\n",
      "[INFO] reading 00270.jpg\n",
      "[INFO] reading 00271.jpg\n",
      "[INFO] reading 00272.jpg\n",
      "[INFO] reading 00273.jpg\n",
      "[INFO] reading 00274.jpg\n",
      "[INFO] cleaning up video writer\n",
      "It took 29 seconds forconversion.\n",
      "The output video is F://term7//CV//ProjectTrail//videos//OutFile_002.mov\n",
      "total time video saving 29.76829719543457\n"
     ]
    }
   ],
   "source": [
    "time_start = time.time()\n",
    "from video import video\n",
    "v = video(video_file)\n",
    "v.frames_to_video(output_video, input_loc=output_frame_folder, debug=True)\n",
    "print(\"total time video saving {}\".format(time.time()-time_start))"
   ]
  }
 ],
 "metadata": {
  "kernelspec": {
   "display_name": "Python 3",
   "language": "python",
   "name": "python3"
  },
  "language_info": {
   "codemirror_mode": {
    "name": "ipython",
    "version": 3
   },
   "file_extension": ".py",
   "mimetype": "text/x-python",
   "name": "python",
   "nbconvert_exporter": "python",
   "pygments_lexer": "ipython3",
   "version": "3.6.4"
  }
 },
 "nbformat": 4,
 "nbformat_minor": 2
}
